{
 "cells": [
  {
   "cell_type": "markdown",
   "metadata": {},
   "source": [
    "<h1>Detection of Myers-Briggs Personality Type via Twitter posts</h1>"
   ]
  },
  {
   "cell_type": "markdown",
   "metadata": {},
   "source": [
    "The Myers-Briggs type indicator (MBTI) represents a type of psychological assessment that helps people to understand themselves better and determine where they stand across 4 axes: Introversion (I) - Extroversion (E), Intuition (N) - Sensing (S), Thinking (T) - Feeling (F), Judging (J) - Perceiving (P). The MBTI assessments usually consists of 93 multiple-choice questions. However, psychology research shows that personality traits can be highly correlated with linguistic behavior. Therefore, the aim of this project is to develop a web application that could assign MBTI based on a client's 50 last Twitter posts based on a corpus of 1.2M English tweets annotated with Myers-Briggs personality types, gender, and user statistics."
   ]
  },
  {
   "cell_type": "markdown",
   "metadata": {},
   "source": [
    "<h2>Table of Contents</h2>\n",
    "<ol>\n",
    "    <li><a href=\"#description\" style=\"text-transform: uppercase;\">Description</a></li>\n",
    "    <li><a href=\"#wrang\" style=\"text-transform: uppercase;\">Data Wrangling</a></li>\n",
    "    <li><a href=\"#explore\" style=\"text-transform: uppercase;\">Data Exploration</a>\n",
    "        <ol>\n",
    "            <li><a href=\"#mbti\">MBTI Type</a></li>\n",
    "            <li><a href=\"#i_e\">Introversion vs Extroversion</a></li>\n",
    "            <li><a href=\"#n_s\">Intuition vs Sensing</a></li>\n",
    "            <li><a href=\"#t_f\">Thinking vs Feeling</a></li>\n",
    "            <li><a href=\"#j_p\">Judging vs Perceiving</a></li>\n",
    "            <li><a href=\"#follow\">Follower Count</a>\n",
    "                <ol>\n",
    "                    <li><a href=\"#mf\">Number of followers by MBTI</a></li>\n",
    "                    <li><a href=\"#gf\">Number of followers by Gender</a></li>\n",
    "                    <li><a href=\"#pf\">Number of followers by Personality Trait</a></li>\n",
    "                </ol>\n",
    "            </li>\n",
    "            <li><a href=\"#status\">Statuses Count</a>\n",
    "                <ol>\n",
    "                    <li><a href=\"#ms\">Number of statuses by MBTI</a></li>\n",
    "                    <li><a href=\"#gs\">Number of statuses by Gender</a></li>\n",
    "                    <li><a href=\"#ps\">Number of statuses by Personality Trait</a></li>\n",
    "                </ol>\n",
    "            </li>\n",
    "            <li><a href=\"#fav\">Favorites Count</a>\n",
    "                <ol>\n",
    "                    <li><a href=\"#mfav\">Number of favorites by MBTI</a></li>\n",
    "                    <li><a href=\"#gfav\">Number of favorites by Gender</a></li>\n",
    "                    <li><a href=\"#pfav\">Number of favorites by Personality Trait</a></li>\n",
    "                </ol>\n",
    "            </li>\n",
    "            <li><a href=\"#list\">Listed Count</a>\n",
    "                <ol>\n",
    "                    <li><a href=\"#ml\">Number of lists by MBTI</a></li>\n",
    "                    <li><a href=\"#gl\">Number of lists by Gender</a></li>\n",
    "                    <li><a href=\"#pl\">Number of lists by Personality Trait</a></li>\n",
    "                </ol>\n",
    "            </li>\n",
    "        </ol>\n",
    "    </li>\n",
    "    <li><a href=\"#stats\" style=\"text-transform: uppercase;\">Statistical Analysis</a></li>\n",
    "</ol>"
   ]
  },
  {
   "cell_type": "markdown",
   "metadata": {},
   "source": [
    "<h2><a id=\"description\" style=\"color: black;\">Description</a></h2>"
   ]
  },
  {
   "cell_type": "markdown",
   "metadata": {},
   "source": [
    "The dataset is available at https://bitbucket.org/bplank/wassa2015 (compiled by Plank B. and Hovy D., \"Personality Traits on Twitter or How to Get 1,500 Personality Tests in a Week\"). Even though the data for the corpus consists of multiple files with varying lengths of twitter messages obtained, the file with the highest number of tweets (approximately 2000 tweets/user) was used in the analysis. The columns in the original data set were united with the additional user information contained in meta-files. Below is the list of columns available for analysis."
   ]
  },
  {
   "cell_type": "markdown",
   "metadata": {},
   "source": [
    "<table>\n",
    "    <tr style=\"text-align: center; border-bottom: 1px solid black; background-color: white;\">\n",
    "        <th style=\"text-align: left; font-size: 14px;\">column name</th>\n",
    "        <th style=\"text-align: left; font-size: 14px;\">description</th>\n",
    "        <th style=\"text-align: left; font-size: 14px;\">type of user information</th>\n",
    "    </tr>\n",
    "    <tr style=\"text-align: center;\">\n",
    "        <th style=\"text-align: left; font-size: 14px;\">MBTI</th>\n",
    "        <th style=\"text-align: left; font-size: 14px;\">user's Myers-Briggs personality type</th>\n",
    "        <th style=\"text-align: left; font-size: 14px;\">required</th>\n",
    "    </tr>\n",
    "    <tr style=\"text-align: center;\">\n",
    "        <th style=\"text-align: left; font-size: 14px;\">Gender</th>\n",
    "        <th style=\"text-align: left; font-size: 14px;\">user's gender (M or F)</th>\n",
    "        <th style=\"text-align: left; font-size: 14px;\">required</th>\n",
    "    </tr>\n",
    "    <tr style=\"text-align: center;\">\n",
    "        <th style=\"text-align: left; font-size: 14px;\">Tweet_num</th>\n",
    "        <th style=\"text-align: left; font-size: 14px;\">Number of tweets available for the user</th>\n",
    "        <th style=\"text-align: left; font-size: 14px;\">required</th>\n",
    "    </tr>\n",
    "    <tr style=\"text-align: center;\">\n",
    "        <th style=\"text-align: left; font-size: 14px;\">Tweets</th>\n",
    "        <th style=\"text-align: left; font-size: 14px;\">Up to 2000 tweets published by the user</th>\n",
    "        <th style=\"text-align: left; font-size: 14px;\">required</th>\n",
    "    </tr>\n",
    "    <tr style=\"text-align: center;\">\n",
    "        <th style=\"text-align: left; font-size: 14px;\">followers_count</th>\n",
    "        <th style=\"text-align: left; font-size: 14px;\">user's number of followers</th>\n",
    "        <th style=\"text-align: left; font-size: 14px;\">required</th>\n",
    "    </tr>\n",
    "    <tr style=\"text-align: center;\">\n",
    "        <th style=\"text-align: left; font-size: 14px;\">statuses_count</th>\n",
    "        <th style=\"text-align: left; font-size: 14px;\">number of tweets (including retweets) issued by the user</th>\n",
    "        <th style=\"text-align: left; font-size: 14px;\">required</th>\n",
    "    </tr>\n",
    "    <tr style=\"text-align: center;\">\n",
    "        <th style=\"text-align: left; font-size: 14px;\">favorites_count</th>\n",
    "        <th style=\"text-align: left; font-size: 14px;\">user's number of favorites (tweets liked by the user)</th>\n",
    "        <th style=\"text-align: left; font-size: 14px;\">required</th>\n",
    "    </tr>\n",
    "    <tr style=\"text-align: center;\">\n",
    "        <th style=\"text-align: left; font-size: 14px;\">listed_count</th>\n",
    "        <th style=\"text-align: left; font-size: 14px;\">the number of public lists that the user is a member of</th>\n",
    "        <th style=\"text-align: left; font-size: 14px;\">required</th>\n",
    "    </tr>\n",
    "    <tr style=\"text-align: center;\">\n",
    "        <th style=\"text-align: left; font-size: 14px;\">profile_background_color</th>\n",
    "        <th style=\"text-align: left; font-size: 14px;\">The hexadecimal color chosen by the user for their background</th>\n",
    "        <th style=\"text-align: left; font-size: 14px;\">additional</th>\n",
    "    </tr>\n",
    "</table>"
   ]
  },
  {
   "cell_type": "markdown",
   "metadata": {},
   "source": [
    "<h2><a id=\"wrang\" style=\"color: black;\">Data Wrangling</a></h2>"
   ]
  },
  {
   "cell_type": "code",
   "execution_count": 1,
   "metadata": {
    "collapsed": true
   },
   "outputs": [],
   "source": [
    "import pandas as pd\n",
    "import seaborn as sns\n",
    "import matplotlib.pyplot as plt\n",
    "%matplotlib inline\n",
    "import numpy as np"
   ]
  },
  {
   "cell_type": "code",
   "execution_count": 2,
   "metadata": {
    "collapsed": true
   },
   "outputs": [],
   "source": [
    "dataset = pd.read_csv(\"1000g.all\",sep=\"\\t\")"
   ]
  },
  {
   "cell_type": "code",
   "execution_count": 3,
   "metadata": {
    "collapsed": true
   },
   "outputs": [],
   "source": [
    "dataset.columns = ['MBTI','Gender','Tweet_num','Tweets']"
   ]
  },
  {
   "cell_type": "code",
   "execution_count": 4,
   "metadata": {},
   "outputs": [
    {
     "name": "stdout",
     "output_type": "stream",
     "text": [
      "<class 'pandas.core.frame.DataFrame'>\n",
      "RangeIndex: 1499 entries, 0 to 1498\n",
      "Data columns (total 4 columns):\n",
      "MBTI         1499 non-null object\n",
      "Gender       1499 non-null object\n",
      "Tweet_num    1499 non-null int64\n",
      "Tweets       1499 non-null object\n",
      "dtypes: int64(1), object(3)\n",
      "memory usage: 46.9+ KB\n"
     ]
    }
   ],
   "source": [
    "dataset.info()"
   ]
  },
  {
   "cell_type": "code",
   "execution_count": 5,
   "metadata": {},
   "outputs": [
    {
     "data": {
      "text/plain": [
       "INFJ    257\n",
       "INTJ    193\n",
       "INFP    175\n",
       "ENFP    148\n",
       "INTP    111\n",
       "ENFJ    105\n",
       "ENTJ    102\n",
       "ISFJ     77\n",
       "ISTJ     75\n",
       "ENTP     70\n",
       "ISFP     51\n",
       "ESFJ     36\n",
       "ESTJ     36\n",
       "ESFP     26\n",
       "ISTP     22\n",
       "ESTP     15\n",
       "Name: MBTI, dtype: int64"
      ]
     },
     "execution_count": 5,
     "metadata": {},
     "output_type": "execute_result"
    }
   ],
   "source": [
    "dataset.MBTI.value_counts()"
   ]
  },
  {
   "cell_type": "code",
   "execution_count": 6,
   "metadata": {},
   "outputs": [
    {
     "name": "stdout",
     "output_type": "stream",
     "text": [
      "<class 'pandas.core.frame.DataFrame'>\n",
      "RangeIndex: 1499 entries, 0 to 1498\n",
      "Data columns (total 4 columns):\n",
      "MBTI         1499 non-null object\n",
      "Gender       1499 non-null object\n",
      "Tweet_num    1499 non-null int64\n",
      "Tweets       1499 non-null object\n",
      "dtypes: int64(1), object(3)\n",
      "memory usage: 46.9+ KB\n"
     ]
    }
   ],
   "source": [
    "dataset_2000 = pd.read_csv(\"2000g.all\",sep=\"\\t\")\n",
    "dataset_2000.columns = ['MBTI','Gender','Tweet_num','Tweets']\n",
    "dataset_2000.info()"
   ]
  },
  {
   "cell_type": "code",
   "execution_count": 7,
   "metadata": {},
   "outputs": [
    {
     "data": {
      "text/html": [
       "<div>\n",
       "<style>\n",
       "    .dataframe thead tr:only-child th {\n",
       "        text-align: right;\n",
       "    }\n",
       "\n",
       "    .dataframe thead th {\n",
       "        text-align: left;\n",
       "    }\n",
       "\n",
       "    .dataframe tbody tr th {\n",
       "        vertical-align: top;\n",
       "    }\n",
       "</style>\n",
       "<table border=\"1\" class=\"dataframe\">\n",
       "  <thead>\n",
       "    <tr style=\"text-align: right;\">\n",
       "      <th></th>\n",
       "      <th>MBTI</th>\n",
       "      <th>Gender</th>\n",
       "      <th>Tweet_num</th>\n",
       "      <th>Tweets</th>\n",
       "    </tr>\n",
       "  </thead>\n",
       "  <tbody>\n",
       "    <tr>\n",
       "      <th>0</th>\n",
       "      <td>ENFJ</td>\n",
       "      <td>f</td>\n",
       "      <td>1606</td>\n",
       "      <td>say what ? this weekend has been full of surpr...</td>\n",
       "    </tr>\n",
       "    <tr>\n",
       "      <th>1</th>\n",
       "      <td>ENFJ</td>\n",
       "      <td>m</td>\n",
       "      <td>1810</td>\n",
       "      <td>daaamn ru was so mad .... @URL / cv9vzqrtjk da...</td>\n",
       "    </tr>\n",
       "    <tr>\n",
       "      <th>2</th>\n",
       "      <td>ENFJ</td>\n",
       "      <td>f</td>\n",
       "      <td>1855</td>\n",
       "      <td>in all , i may have slept an uninterrupted 45 ...</td>\n",
       "    </tr>\n",
       "    <tr>\n",
       "      <th>3</th>\n",
       "      <td>ENFJ</td>\n",
       "      <td>f</td>\n",
       "      <td>100</td>\n",
       "      <td>that tumblr post comparing louis ' laugh to a ...</td>\n",
       "    </tr>\n",
       "    <tr>\n",
       "      <th>4</th>\n",
       "      <td>ENFJ</td>\n",
       "      <td>f</td>\n",
       "      <td>1508</td>\n",
       "      <td>rt @USER : and those people are not the religi...</td>\n",
       "    </tr>\n",
       "  </tbody>\n",
       "</table>\n",
       "</div>"
      ],
      "text/plain": [
       "   MBTI Gender  Tweet_num                                             Tweets\n",
       "0  ENFJ      f       1606  say what ? this weekend has been full of surpr...\n",
       "1  ENFJ      m       1810  daaamn ru was so mad .... @URL / cv9vzqrtjk da...\n",
       "2  ENFJ      f       1855  in all , i may have slept an uninterrupted 45 ...\n",
       "3  ENFJ      f        100  that tumblr post comparing louis ' laugh to a ...\n",
       "4  ENFJ      f       1508  rt @USER : and those people are not the religi..."
      ]
     },
     "execution_count": 7,
     "metadata": {},
     "output_type": "execute_result"
    }
   ],
   "source": [
    "dataset_2000.head(5)"
   ]
  },
  {
   "cell_type": "code",
   "execution_count": 8,
   "metadata": {},
   "outputs": [
    {
     "data": {
      "text/html": [
       "<div>\n",
       "<style>\n",
       "    .dataframe thead tr:only-child th {\n",
       "        text-align: right;\n",
       "    }\n",
       "\n",
       "    .dataframe thead th {\n",
       "        text-align: left;\n",
       "    }\n",
       "\n",
       "    .dataframe tbody tr th {\n",
       "        vertical-align: top;\n",
       "    }\n",
       "</style>\n",
       "<table border=\"1\" class=\"dataframe\">\n",
       "  <thead>\n",
       "    <tr style=\"text-align: right;\">\n",
       "      <th></th>\n",
       "      <th>MBTI</th>\n",
       "      <th>Gender</th>\n",
       "      <th>Tweet_num</th>\n",
       "      <th>Tweets</th>\n",
       "    </tr>\n",
       "  </thead>\n",
       "  <tbody>\n",
       "    <tr>\n",
       "      <th>0</th>\n",
       "      <td>ENFJ</td>\n",
       "      <td>f</td>\n",
       "      <td>998</td>\n",
       "      <td>say what ? this weekend has been full of surpr...</td>\n",
       "    </tr>\n",
       "    <tr>\n",
       "      <th>1</th>\n",
       "      <td>ENFJ</td>\n",
       "      <td>m</td>\n",
       "      <td>1000</td>\n",
       "      <td>daaamn ru was so mad .... @URL / cv9vzqrtjk da...</td>\n",
       "    </tr>\n",
       "    <tr>\n",
       "      <th>2</th>\n",
       "      <td>ENFJ</td>\n",
       "      <td>f</td>\n",
       "      <td>999</td>\n",
       "      <td>in all , i may have slept an uninterrupted 45 ...</td>\n",
       "    </tr>\n",
       "    <tr>\n",
       "      <th>3</th>\n",
       "      <td>ENFJ</td>\n",
       "      <td>f</td>\n",
       "      <td>100</td>\n",
       "      <td>that tumblr post comparing louis ' laugh to a ...</td>\n",
       "    </tr>\n",
       "    <tr>\n",
       "      <th>4</th>\n",
       "      <td>ENFJ</td>\n",
       "      <td>f</td>\n",
       "      <td>1000</td>\n",
       "      <td>rt @USER : and those people are not the religi...</td>\n",
       "    </tr>\n",
       "  </tbody>\n",
       "</table>\n",
       "</div>"
      ],
      "text/plain": [
       "   MBTI Gender  Tweet_num                                             Tweets\n",
       "0  ENFJ      f        998  say what ? this weekend has been full of surpr...\n",
       "1  ENFJ      m       1000  daaamn ru was so mad .... @URL / cv9vzqrtjk da...\n",
       "2  ENFJ      f        999  in all , i may have slept an uninterrupted 45 ...\n",
       "3  ENFJ      f        100  that tumblr post comparing louis ' laugh to a ...\n",
       "4  ENFJ      f       1000  rt @USER : and those people are not the religi..."
      ]
     },
     "execution_count": 8,
     "metadata": {},
     "output_type": "execute_result"
    }
   ],
   "source": [
    "dataset.head(5)"
   ]
  },
  {
   "cell_type": "code",
   "execution_count": 9,
   "metadata": {
    "collapsed": true
   },
   "outputs": [],
   "source": [
    "meta_2000 = pd.read_csv(\"2000meta.all\",sep=\"\\t\")\n",
    "meta_2000.columns = [\"followers_count\",\"statuses_count\",\"favorites_count\",\"listed_count\",\"profile_background_color\"]"
   ]
  },
  {
   "cell_type": "code",
   "execution_count": 10,
   "metadata": {},
   "outputs": [
    {
     "name": "stdout",
     "output_type": "stream",
     "text": [
      "<class 'pandas.core.frame.DataFrame'>\n",
      "RangeIndex: 1499 entries, 0 to 1498\n",
      "Data columns (total 5 columns):\n",
      "followers_count             1499 non-null object\n",
      "statuses_count              1499 non-null object\n",
      "favorites_count             1499 non-null object\n",
      "listed_count                1499 non-null object\n",
      "profile_background_color    1499 non-null object\n",
      "dtypes: object(5)\n",
      "memory usage: 58.6+ KB\n"
     ]
    }
   ],
   "source": [
    "meta_2000.info()"
   ]
  },
  {
   "cell_type": "code",
   "execution_count": 11,
   "metadata": {
    "collapsed": true
   },
   "outputs": [],
   "source": [
    "def del_col_name(string,df):\n",
    "    str_to_replace = string + '='\n",
    "    df = df.replace(str_to_replace,'',regex=True)\n",
    "    return df\n",
    "\n",
    "def int_conversion(col,df):\n",
    "    df[col] = df[col].astype(int)\n",
    "    return df"
   ]
  },
  {
   "cell_type": "code",
   "execution_count": 12,
   "metadata": {
    "collapsed": true
   },
   "outputs": [],
   "source": [
    "for col_name in meta_2000.columns:\n",
    "    meta_2000 = del_col_name(col_name,meta_2000)\n",
    "    if (col_name != 'profile_background_color'):\n",
    "        meta_2000 = int_conversion(col_name, meta_2000)"
   ]
  },
  {
   "cell_type": "code",
   "execution_count": 13,
   "metadata": {},
   "outputs": [
    {
     "name": "stdout",
     "output_type": "stream",
     "text": [
      "<class 'pandas.core.frame.DataFrame'>\n",
      "RangeIndex: 1499 entries, 0 to 1498\n",
      "Data columns (total 5 columns):\n",
      "followers_count             1499 non-null int64\n",
      "statuses_count              1499 non-null int64\n",
      "favorites_count             1499 non-null int64\n",
      "listed_count                1499 non-null int64\n",
      "profile_background_color    1499 non-null object\n",
      "dtypes: int64(4), object(1)\n",
      "memory usage: 58.6+ KB\n"
     ]
    }
   ],
   "source": [
    "meta_2000.info()"
   ]
  },
  {
   "cell_type": "code",
   "execution_count": 14,
   "metadata": {
    "collapsed": true
   },
   "outputs": [],
   "source": [
    "mbti_corpus = pd.concat([dataset_2000,meta_2000],axis=1)"
   ]
  },
  {
   "cell_type": "code",
   "execution_count": 15,
   "metadata": {},
   "outputs": [
    {
     "name": "stdout",
     "output_type": "stream",
     "text": [
      "<class 'pandas.core.frame.DataFrame'>\n",
      "RangeIndex: 1499 entries, 0 to 1498\n",
      "Data columns (total 9 columns):\n",
      "MBTI                        1499 non-null object\n",
      "Gender                      1499 non-null object\n",
      "Tweet_num                   1499 non-null int64\n",
      "Tweets                      1499 non-null object\n",
      "followers_count             1499 non-null int64\n",
      "statuses_count              1499 non-null int64\n",
      "favorites_count             1499 non-null int64\n",
      "listed_count                1499 non-null int64\n",
      "profile_background_color    1499 non-null object\n",
      "dtypes: int64(5), object(4)\n",
      "memory usage: 105.5+ KB\n"
     ]
    }
   ],
   "source": [
    "mbti_corpus.info()"
   ]
  },
  {
   "cell_type": "code",
   "execution_count": 16,
   "metadata": {},
   "outputs": [
    {
     "data": {
      "text/plain": [
       "MBTI                        0\n",
       "Gender                      0\n",
       "Tweet_num                   0\n",
       "Tweets                      0\n",
       "followers_count             0\n",
       "statuses_count              0\n",
       "favorites_count             0\n",
       "listed_count                0\n",
       "profile_background_color    0\n",
       "dtype: int64"
      ]
     },
     "execution_count": 16,
     "metadata": {},
     "output_type": "execute_result"
    }
   ],
   "source": [
    "mbti_corpus.isnull().sum()"
   ]
  },
  {
   "cell_type": "markdown",
   "metadata": {},
   "source": [
    "<h2><a id=\"explore\" style=\"color: black;\">Data Exploration</a></h2>"
   ]
  },
  {
   "cell_type": "markdown",
   "metadata": {},
   "source": [
    "<h3><a id=\"mbti\" style=\"color: black;\">MBTI types</a></h3>"
   ]
  },
  {
   "cell_type": "code",
   "execution_count": 17,
   "metadata": {},
   "outputs": [
    {
     "data": {
      "image/png": "[encoded data removed]",
      "text/plain": [
       "<matplotlib.figure.Figure at 0x1a11528f50>"
      ]
     },
     "metadata": {},
     "output_type": "display_data"
    }
   ],
   "source": [
    "sns.set_style('whitegrid')\n",
    "sns.set_style('ticks')\n",
    "plt.figure(figsize=(11.8, 7))\n",
    "cols = sorted(pd.unique(mbti_corpus.MBTI))\n",
    "sns.countplot(data=mbti_corpus, y='MBTI', color='magenta', palette=\"Blues_r\",order=cols)\n",
    "sns.despine()\n",
    "plt.xlabel('Number of Twitter Users', fontsize=14)\n",
    "plt.ylabel('MBTI', fontsize=14)\n",
    "plt.title('Frequency of MBTI types among 1,499 twitter users', fontsize=16)\n",
    "plt.show()"
   ]
  },
  {
   "cell_type": "markdown",
   "metadata": {},
   "source": [
    "<h3><a id=\"i_e\" style=\"color: black;\">Introversion vs. Extroversion</a></h3>"
   ]
  },
  {
   "cell_type": "code",
   "execution_count": 18,
   "metadata": {
    "collapsed": true
   },
   "outputs": [],
   "source": [
    "table = pd.DataFrame(index=['I-E','N-S','T-F','J-P'],columns=['Total','Female','Male'])"
   ]
  },
  {
   "cell_type": "code",
   "execution_count": 19,
   "metadata": {
    "collapsed": true
   },
   "outputs": [],
   "source": [
    "i_e = [len(mbti_corpus[mbti_corpus.MBTI.str[0] == 'I']), len(mbti_corpus[mbti_corpus.MBTI.str[0] == 'E'])]\n",
    "label = ['General','Female','Male']\n",
    "result = [0,1,2]"
   ]
  },
  {
   "cell_type": "code",
   "execution_count": 20,
   "metadata": {
    "collapsed": true
   },
   "outputs": [],
   "source": [
    "female = mbti_corpus[mbti_corpus.Gender == 'f']\n",
    "male = mbti_corpus[mbti_corpus.Gender == 'm']"
   ]
  },
  {
   "cell_type": "code",
   "execution_count": 21,
   "metadata": {
    "collapsed": true
   },
   "outputs": [],
   "source": [
    "num_female = [len(female[female.MBTI.str[0] == 'I']), len(female[female.MBTI.str[0] == 'E'])]\n",
    "num_male = [len(male[male.MBTI.str[0] == 'I']), len(male[male.MBTI.str[0] == 'E'])]"
   ]
  },
  {
   "cell_type": "code",
   "execution_count": 22,
   "metadata": {
    "collapsed": true
   },
   "outputs": [],
   "source": [
    "raw_data = {'Introverts': [i_e[0],num_female[0],num_male[0]],'Extroverts':[i_e[1],num_female[1],num_male[1]]}\n",
    "df = pd.DataFrame(raw_data)"
   ]
  },
  {
   "cell_type": "code",
   "execution_count": 23,
   "metadata": {
    "collapsed": true
   },
   "outputs": [],
   "source": [
    "totals = [i+k for i,k in zip(df['Introverts'],df['Extroverts'])]\n",
    "introverts = [i*100/j for i,j in zip(df['Introverts'],totals)]\n",
    "extroverts = [i*100/j for i,j in zip(df['Extroverts'],totals)]"
   ]
  },
  {
   "cell_type": "code",
   "execution_count": 24,
   "metadata": {},
   "outputs": [
    {
     "data": {
      "image/png": "[encoded data removed]",
      "text/plain": [
       "<matplotlib.figure.Figure at 0x1a116d0ed0>"
      ]
     },
     "metadata": {},
     "output_type": "display_data"
    }
   ],
   "source": [
    "barWidth = 0.85\n",
    "plt.figure(figsize=(11.8, 7))\n",
    "plt.bar(result, introverts, color='#b5ffb9',edgecolor='white',width=barWidth,label='Introverts')\n",
    "plt.bar(result, extroverts, color='#a3acff',bottom=introverts,edgecolor='white',width=barWidth,label='Extroverts')\n",
    "plt.xticks(result, label)\n",
    "plt.xlabel('Introversion vs Extraversion')\n",
    "plt.legend(loc='upper left', bbox_to_anchor=(1,1), ncol=1)\n",
    "\n",
    "plt.show()"
   ]
  },
  {
   "cell_type": "code",
   "execution_count": 25,
   "metadata": {
    "collapsed": true
   },
   "outputs": [],
   "source": [
    "total = 1499\n",
    "table['Total'][0] = str(i_e[0]*100/total) + '% / ' + str(i_e[1]*100/total) + '%'\n",
    "table['Female'][0] = str(num_female[0]*100/len(female)) + '% / ' + str(num_female[1]*100/len(female)) + '%'\n",
    "table['Male'][0] = str(num_male[0]*100/len(male)) + '% / ' + str(num_male[1]*100/len(male)) + '%'"
   ]
  },
  {
   "cell_type": "markdown",
   "metadata": {},
   "source": [
    "<h3><a id=\"n_s\" style=\"color: black;\">Intuition vs. Sensing</a></h3>"
   ]
  },
  {
   "cell_type": "code",
   "execution_count": 26,
   "metadata": {
    "collapsed": true
   },
   "outputs": [],
   "source": [
    "i_e = [len(mbti_corpus[mbti_corpus.MBTI.str[1] == 'N']), len(mbti_corpus[mbti_corpus.MBTI.str[1] == 'S'])]\n",
    "label = ['General','Female','Male']\n",
    "result = [0,1,2]"
   ]
  },
  {
   "cell_type": "code",
   "execution_count": 27,
   "metadata": {
    "collapsed": true
   },
   "outputs": [],
   "source": [
    "female = mbti_corpus[mbti_corpus.Gender == 'f']\n",
    "male = mbti_corpus[mbti_corpus.Gender == 'm']"
   ]
  },
  {
   "cell_type": "code",
   "execution_count": 28,
   "metadata": {
    "collapsed": true
   },
   "outputs": [],
   "source": [
    "num_female = [len(female[female.MBTI.str[1] == 'N']), len(female[female.MBTI.str[1] == 'S'])]\n",
    "num_male = [len(male[male.MBTI.str[1] == 'N']), len(male[male.MBTI.str[1] == 'S'])]"
   ]
  },
  {
   "cell_type": "code",
   "execution_count": 29,
   "metadata": {
    "collapsed": true
   },
   "outputs": [],
   "source": [
    "raw_data = {'Intuitive': [i_e[0],num_female[0],num_male[0]],'Sensing':[i_e[1],num_female[1],num_male[1]]}\n",
    "df = pd.DataFrame(raw_data)"
   ]
  },
  {
   "cell_type": "code",
   "execution_count": 30,
   "metadata": {
    "collapsed": true
   },
   "outputs": [],
   "source": [
    "totals = [i+k for i,k in zip(df['Intuitive'],df['Sensing'])]\n",
    "intuit = [i*100/j for i,j in zip(df['Intuitive'],totals)]\n",
    "sense = [i*100/j for i,j in zip(df['Sensing'],totals)]"
   ]
  },
  {
   "cell_type": "code",
   "execution_count": 31,
   "metadata": {},
   "outputs": [
    {
     "data": {
      "image/png": "[encoded data removed]",
      "text/plain": [
       "<matplotlib.figure.Figure at 0x10e427550>"
      ]
     },
     "metadata": {},
     "output_type": "display_data"
    }
   ],
   "source": [
    "barWidth = 0.85\n",
    "plt.figure(figsize=(11.8, 7))\n",
    "plt.bar(result, intuit, color='#b5ffb9',edgecolor='white',width=barWidth,label='Intuitive')\n",
    "plt.bar(result, sense, color='#a3acff',bottom=intuit,edgecolor='white',width=barWidth,label='Sensing')\n",
    "plt.xticks(result, label)\n",
    "plt.xlabel('Intuition vs. Sensing')\n",
    "plt.legend(loc='upper left', bbox_to_anchor=(1,1), ncol=1)\n",
    "\n",
    "plt.show()"
   ]
  },
  {
   "cell_type": "code",
   "execution_count": 32,
   "metadata": {
    "collapsed": true
   },
   "outputs": [],
   "source": [
    "table['Total'][1] = str(i_e[0]*100/total) + '% / ' + str(i_e[1]*100/total) + '%'\n",
    "table['Female'][1] = str(num_female[0]*100/len(female)) + '% / ' + str(num_female[1]*100/len(female)) + '%'\n",
    "table['Male'][1] = str(num_male[0]*100/len(male)) + '% / ' + str(num_male[1]*100/len(male)) + '%'"
   ]
  },
  {
   "cell_type": "markdown",
   "metadata": {},
   "source": [
    "<h3><a id=\"t_f\" style=\"color: black;\">Thinking vs. Feeling</a></h3>"
   ]
  },
  {
   "cell_type": "code",
   "execution_count": 33,
   "metadata": {
    "collapsed": true
   },
   "outputs": [],
   "source": [
    "i_e = [len(mbti_corpus[mbti_corpus.MBTI.str[2] == 'T']), len(mbti_corpus[mbti_corpus.MBTI.str[2] == 'F'])]\n",
    "label = ['General','Female','Male']\n",
    "result = [0,1,2]"
   ]
  },
  {
   "cell_type": "code",
   "execution_count": 34,
   "metadata": {
    "collapsed": true
   },
   "outputs": [],
   "source": [
    "female = mbti_corpus[mbti_corpus.Gender == 'f']\n",
    "male = mbti_corpus[mbti_corpus.Gender == 'm']"
   ]
  },
  {
   "cell_type": "code",
   "execution_count": 35,
   "metadata": {
    "collapsed": true
   },
   "outputs": [],
   "source": [
    "num_female = [len(female[female.MBTI.str[2] == 'T']), len(female[female.MBTI.str[2] == 'F'])]\n",
    "num_male = [len(male[male.MBTI.str[2] == 'T']), len(male[male.MBTI.str[2] == 'F'])]"
   ]
  },
  {
   "cell_type": "code",
   "execution_count": 36,
   "metadata": {
    "collapsed": true
   },
   "outputs": [],
   "source": [
    "raw_data = {'Thinking': [i_e[0],num_female[0],num_male[0]],'Feeling':[i_e[1],num_female[1],num_male[1]]}\n",
    "df = pd.DataFrame(raw_data)"
   ]
  },
  {
   "cell_type": "code",
   "execution_count": 37,
   "metadata": {
    "collapsed": true
   },
   "outputs": [],
   "source": [
    "totals = [i+k for i,k in zip(df['Thinking'],df['Feeling'])]\n",
    "think = [i*100/j for i,j in zip(df['Thinking'],totals)]\n",
    "feel = [i*100/j for i,j in zip(df['Feeling'],totals)]"
   ]
  },
  {
   "cell_type": "code",
   "execution_count": 38,
   "metadata": {},
   "outputs": [
    {
     "data": {
      "image/png": "[encoded data removed]",
      "text/plain": [
       "<matplotlib.figure.Figure at 0x10e3d43d0>"
      ]
     },
     "metadata": {},
     "output_type": "display_data"
    }
   ],
   "source": [
    "barWidth = 0.85\n",
    "plt.figure(figsize=(11.8, 7))\n",
    "plt.bar(result, think, color='#b5ffb9',edgecolor='white',width=barWidth,label='Thinking')\n",
    "plt.bar(result, feel, color='#a3acff',bottom=think,edgecolor='white',width=barWidth,label='Feeling')\n",
    "plt.xticks(result, label)\n",
    "plt.xlabel('Thinking vs. Feeling')\n",
    "plt.legend(loc='upper left', bbox_to_anchor=(1,1), ncol=1)\n",
    "\n",
    "plt.show()"
   ]
  },
  {
   "cell_type": "code",
   "execution_count": 39,
   "metadata": {
    "collapsed": true
   },
   "outputs": [],
   "source": [
    "table['Total'][2] = str(i_e[0]*100/total) + '% / ' + str(i_e[1]*100/total) + '%'\n",
    "table['Female'][2] = str(num_female[0]*100/len(female)) + '% / ' + str(num_female[1]*100/len(female)) + '%'\n",
    "table['Male'][2] = str(num_male[0]*100/len(male)) + '% / ' + str(num_male[1]*100/len(male)) + '%'"
   ]
  },
  {
   "cell_type": "markdown",
   "metadata": {},
   "source": [
    "<h3><a id=\"j_p\" style=\"color: black;\">Judging vs. Prospecting</a></h3>"
   ]
  },
  {
   "cell_type": "code",
   "execution_count": 40,
   "metadata": {
    "collapsed": true
   },
   "outputs": [],
   "source": [
    "i_e = [len(mbti_corpus[mbti_corpus.MBTI.str[3] == 'J']), len(mbti_corpus[mbti_corpus.MBTI.str[3] == 'P'])]\n",
    "label = ['General','Female','Male']\n",
    "result = [0,1,2]"
   ]
  },
  {
   "cell_type": "code",
   "execution_count": 41,
   "metadata": {
    "collapsed": true
   },
   "outputs": [],
   "source": [
    "female = mbti_corpus[mbti_corpus.Gender == 'f']\n",
    "male = mbti_corpus[mbti_corpus.Gender == 'm']"
   ]
  },
  {
   "cell_type": "code",
   "execution_count": 42,
   "metadata": {
    "collapsed": true
   },
   "outputs": [],
   "source": [
    "num_female = [len(female[female.MBTI.str[3] == 'J']), len(female[female.MBTI.str[3] == 'P'])]\n",
    "num_male = [len(male[male.MBTI.str[3] == 'J']), len(male[male.MBTI.str[3] == 'P'])]"
   ]
  },
  {
   "cell_type": "code",
   "execution_count": 43,
   "metadata": {
    "collapsed": true
   },
   "outputs": [],
   "source": [
    "raw_data = {'Judging': [i_e[0],num_female[0],num_male[0]],'Prospecting':[i_e[1],num_female[1],num_male[1]]}\n",
    "df = pd.DataFrame(raw_data)"
   ]
  },
  {
   "cell_type": "code",
   "execution_count": 44,
   "metadata": {
    "collapsed": true
   },
   "outputs": [],
   "source": [
    "totals = [i+k for i,k in zip(df['Judging'],df['Prospecting'])]\n",
    "judge = [i*100/j for i,j in zip(df['Judging'],totals)]\n",
    "prospect = [i*100/j for i,j in zip(df['Prospecting'],totals)]"
   ]
  },
  {
   "cell_type": "code",
   "execution_count": 45,
   "metadata": {},
   "outputs": [
    {
     "data": {
      "image/png": "[encoded data removed]",
      "text/plain": [
       "<matplotlib.figure.Figure at 0x10e31d110>"
      ]
     },
     "metadata": {},
     "output_type": "display_data"
    }
   ],
   "source": [
    "barWidth = 0.85\n",
    "plt.figure(figsize=(11.8, 7))\n",
    "plt.bar(result, judge, color='#b5ffb9',edgecolor='white',width=barWidth,label='Judging')\n",
    "plt.bar(result, prospect, color='#a3acff',bottom=judge,edgecolor='white',width=barWidth,label='Prospecting')\n",
    "plt.xticks(result, label)\n",
    "plt.xlabel('Judging vs. Prospecting')\n",
    "plt.legend(loc='upper left', bbox_to_anchor=(1,1), ncol=1)\n",
    "\n",
    "plt.show()"
   ]
  },
  {
   "cell_type": "code",
   "execution_count": 46,
   "metadata": {
    "collapsed": true
   },
   "outputs": [],
   "source": [
    "table['Total'][3] = str(i_e[0]*100/total) + '% / ' + str(i_e[1]*100/total) + '%'\n",
    "table['Female'][3] = str(num_female[0]*100/len(female)) + '% / ' + str(num_female[1]*100/len(female)) + '%'\n",
    "table['Male'][3] = str(num_male[0]*100/len(male)) + '% / ' + str(num_male[1]*100/len(male)) + '%'"
   ]
  },
  {
   "cell_type": "code",
   "execution_count": 47,
   "metadata": {},
   "outputs": [
    {
     "data": {
      "text/html": [
       "<div>\n",
       "<style>\n",
       "    .dataframe thead tr:only-child th {\n",
       "        text-align: right;\n",
       "    }\n",
       "\n",
       "    .dataframe thead th {\n",
       "        text-align: left;\n",
       "    }\n",
       "\n",
       "    .dataframe tbody tr th {\n",
       "        vertical-align: top;\n",
       "    }\n",
       "</style>\n",
       "<table border=\"1\" class=\"dataframe\">\n",
       "  <thead>\n",
       "    <tr style=\"text-align: right;\">\n",
       "      <th></th>\n",
       "      <th>Total</th>\n",
       "      <th>Female</th>\n",
       "      <th>Male</th>\n",
       "    </tr>\n",
       "  </thead>\n",
       "  <tbody>\n",
       "    <tr>\n",
       "      <th>I-E</th>\n",
       "      <td>64% / 35%</td>\n",
       "      <td>65% / 34%</td>\n",
       "      <td>61% / 38%</td>\n",
       "    </tr>\n",
       "    <tr>\n",
       "      <th>N-S</th>\n",
       "      <td>77% / 22%</td>\n",
       "      <td>75% / 24%</td>\n",
       "      <td>80% / 19%</td>\n",
       "    </tr>\n",
       "    <tr>\n",
       "      <th>T-F</th>\n",
       "      <td>41% / 58%</td>\n",
       "      <td>36% / 63%</td>\n",
       "      <td>50% / 49%</td>\n",
       "    </tr>\n",
       "    <tr>\n",
       "      <th>J-P</th>\n",
       "      <td>58% / 41%</td>\n",
       "      <td>60% / 39%</td>\n",
       "      <td>56% / 43%</td>\n",
       "    </tr>\n",
       "  </tbody>\n",
       "</table>\n",
       "</div>"
      ],
      "text/plain": [
       "         Total     Female       Male\n",
       "I-E  64% / 35%  65% / 34%  61% / 38%\n",
       "N-S  77% / 22%  75% / 24%  80% / 19%\n",
       "T-F  41% / 58%  36% / 63%  50% / 49%\n",
       "J-P  58% / 41%  60% / 39%  56% / 43%"
      ]
     },
     "execution_count": 47,
     "metadata": {},
     "output_type": "execute_result"
    }
   ],
   "source": [
    "table"
   ]
  },
  {
   "cell_type": "markdown",
   "metadata": {
    "collapsed": true
   },
   "source": [
    "<h3><a id=\"follow\" style=\"color: black;\">Followers Count</a></h3>"
   ]
  },
  {
   "cell_type": "markdown",
   "metadata": {},
   "source": [
    "<h4><a id=\"mf\" style=\"color: black;\">Number of followers with respect to MBTI</a></h4>"
   ]
  },
  {
   "cell_type": "code",
   "execution_count": 48,
   "metadata": {},
   "outputs": [
    {
     "data": {
      "image/png": "[encoded data removed]",
      "text/plain": [
       "<matplotlib.figure.Figure at 0x10e2ec410>"
      ]
     },
     "metadata": {},
     "output_type": "display_data"
    }
   ],
   "source": [
    "plt.figure(figsize=(11.8, 7))\n",
    "sns.set_style(\"whitegrid\", {'axes.grid' : False})\n",
    "sns.barplot(x='MBTI', y='followers_count', data=mbti_corpus)\n",
    "plt.title('Number of followers with respect to MBTI', fontsize=14)\n",
    "plt.xlabel('MBTI', fontsize=14)\n",
    "plt.ylabel('Number of followers', fontsize=14)\n",
    "plt.show()"
   ]
  },
  {
   "cell_type": "markdown",
   "metadata": {},
   "source": [
    "<h4><a id=\"gf\" style=\"color: black;\">Number of followers by Gender</a></h4>"
   ]
  },
  {
   "cell_type": "code",
   "execution_count": 49,
   "metadata": {
    "collapsed": true
   },
   "outputs": [],
   "source": [
    "female_followers = mbti_corpus[mbti_corpus.Gender == 'f'].followers_count\n",
    "male_followers = mbti_corpus[mbti_corpus.Gender == 'm'].followers_count"
   ]
  },
  {
   "cell_type": "code",
   "execution_count": 50,
   "metadata": {},
   "outputs": [
    {
     "data": {
      "image/png": "[encoded data removed]",
      "text/plain": [
       "<matplotlib.figure.Figure at 0x10a173410>"
      ]
     },
     "metadata": {},
     "output_type": "display_data"
    }
   ],
   "source": [
    "sns.set_style(\"whitegrid\", {'axes.grid' : False})\n",
    "sns.barplot(x=['Female','Male'], y=[np.mean(female_followers), np.mean(male_followers)], palette=\"Blues_d\")\n",
    "plt.title('Average number of followers by gender', fontsize=14)\n",
    "plt.xlabel('Gender', fontsize=14)\n",
    "plt.ylabel('Number of followers', fontsize=14)\n",
    "plt.show()"
   ]
  },
  {
   "cell_type": "markdown",
   "metadata": {},
   "source": [
    "<h4><a id=\"pf\" style=\"color: black;\">Number of followers by Personality Traits</a></h4>"
   ]
  },
  {
   "cell_type": "code",
   "execution_count": 51,
   "metadata": {
    "collapsed": true
   },
   "outputs": [],
   "source": [
    "introverts_followers = mbti_corpus[mbti_corpus.MBTI.str[0] == 'I'].followers_count\n",
    "extroverts_followers = mbti_corpus[mbti_corpus.MBTI.str[0] == 'E'].followers_count\n",
    "intuit_followers = mbti_corpus[mbti_corpus.MBTI.str[1] == 'N'].followers_count\n",
    "sense_followers = mbti_corpus[mbti_corpus.MBTI.str[1] == 'S'].followers_count\n",
    "think_followers = mbti_corpus[mbti_corpus.MBTI.str[2] == 'T'].followers_count\n",
    "feel_followers = mbti_corpus[mbti_corpus.MBTI.str[2] == 'F'].followers_count\n",
    "judge_followers = mbti_corpus[mbti_corpus.MBTI.str[3] == 'J'].followers_count\n",
    "prospect_followers = mbti_corpus[mbti_corpus.MBTI.str[3] == 'P'].followers_count"
   ]
  },
  {
   "cell_type": "code",
   "execution_count": 52,
   "metadata": {},
   "outputs": [
    {
     "data": {
      "image/png": "[encoded data removed]",
      "text/plain": [
       "<matplotlib.figure.Figure at 0x10e3d4b90>"
      ]
     },
     "metadata": {},
     "output_type": "display_data"
    }
   ],
   "source": [
    "f, ((ax1, ax2), (ax3, ax4)) = plt.subplots(nrows=2,ncols=2,figsize=(11.7, 11))\n",
    "ax1.bar(x=['Introverted','Extroverted'], height=[np.mean(introverts_followers),np.mean(extroverts_followers)], color=['#660066','#ff99ff'])\n",
    "ax2.bar(x=['Intuitive','Sensing'], height=[np.mean(intuit_followers),np.mean(sense_followers)], color=['#99cc99','#002600'])\n",
    "ax3.bar(x=['Thinking','Feeling'], height=[np.mean(think_followers),np.mean(feel_followers)], color=['#f9f99d','#f0f20c'])\n",
    "ax4.bar(x=['Judging','Prospecting'],height=[np.mean(judge_followers),np.mean(prospect_followers)], color=['#3232ff','#9999ff'])\n",
    "ax1.set_ylabel('Number of followers')\n",
    "ax3.set_ylabel('Number of followers')\n",
    "plt.show()"
   ]
  },
  {
   "cell_type": "markdown",
   "metadata": {},
   "source": [
    "<h3><a id=\"status\" style=\"color: black;\">Statuses count</a></h3>"
   ]
  },
  {
   "cell_type": "markdown",
   "metadata": {},
   "source": [
    "<h4><a id=\"ms\" style=\"color: black;\">Number of statuses with respect to MBTI</a></h4>"
   ]
  },
  {
   "cell_type": "code",
   "execution_count": 53,
   "metadata": {},
   "outputs": [
    {
     "data": {
      "image/png": "[encoded data removed]",
      "text/plain": [
       "<matplotlib.figure.Figure at 0x10e65cc10>"
      ]
     },
     "metadata": {},
     "output_type": "display_data"
    }
   ],
   "source": [
    "plt.figure(figsize=(11.8, 7))\n",
    "cols = sorted(pd.unique(mbti_corpus.MBTI))\n",
    "sns.set_style(\"whitegrid\", {'axes.grid' : False})\n",
    "sns.barplot(x='MBTI', y='statuses_count', data=mbti_corpus,order=cols,palette=\"Blues_d\")\n",
    "plt.title('Number of statuses with respect to MBTI', fontsize=14)\n",
    "plt.xlabel('MBTI', fontsize=14)\n",
    "plt.ylabel('Number of statuses published', fontsize=14)\n",
    "plt.show()"
   ]
  },
  {
   "cell_type": "markdown",
   "metadata": {},
   "source": [
    "<h4><a id=\"gs\" style=\"color: black;\">Number of statuses published by Gender</a></h4>"
   ]
  },
  {
   "cell_type": "code",
   "execution_count": 54,
   "metadata": {
    "collapsed": true
   },
   "outputs": [],
   "source": [
    "female_status = mbti_corpus[mbti_corpus.Gender == 'f'].statuses_count\n",
    "male_status = mbti_corpus[mbti_corpus.Gender == 'm'].statuses_count"
   ]
  },
  {
   "cell_type": "code",
   "execution_count": 55,
   "metadata": {},
   "outputs": [
    {
     "data": {
      "image/png": "[encoded data removed]",
      "text/plain": [
       "<matplotlib.figure.Figure at 0x1a175f3090>"
      ]
     },
     "metadata": {},
     "output_type": "display_data"
    }
   ],
   "source": [
    "sns.set_style(\"whitegrid\", {'axes.grid' : False})\n",
    "sns.barplot(x=['Female','Male'], y=[np.mean(female_status), np.mean(male_status)], palette=\"Blues_d\")\n",
    "plt.title('Average number of published statuses by gender', fontsize=14)\n",
    "plt.xlabel('Gender', fontsize=14)\n",
    "plt.ylabel('Number of published statuses', fontsize=14)\n",
    "plt.show()"
   ]
  },
  {
   "cell_type": "markdown",
   "metadata": {},
   "source": [
    "<h4><a id=\"ps\" style=\"color: black;\">Number of statuses published by personality traits</a></h4>"
   ]
  },
  {
   "cell_type": "code",
   "execution_count": 56,
   "metadata": {
    "collapsed": true
   },
   "outputs": [],
   "source": [
    "introverts_status = mbti_corpus[mbti_corpus.MBTI.str[0] == 'I'].statuses_count\n",
    "extroverts_status = mbti_corpus[mbti_corpus.MBTI.str[0] == 'E'].statuses_count\n",
    "intuit_status = mbti_corpus[mbti_corpus.MBTI.str[1] == 'N'].statuses_count\n",
    "sense_status = mbti_corpus[mbti_corpus.MBTI.str[1] == 'S'].statuses_count\n",
    "think_status = mbti_corpus[mbti_corpus.MBTI.str[2] == 'T'].statuses_count\n",
    "feel_status = mbti_corpus[mbti_corpus.MBTI.str[2] == 'F'].statuses_count\n",
    "judge_status = mbti_corpus[mbti_corpus.MBTI.str[3] == 'J'].statuses_count\n",
    "prospect_status = mbti_corpus[mbti_corpus.MBTI.str[3] == 'P'].statuses_count"
   ]
  },
  {
   "cell_type": "code",
   "execution_count": 57,
   "metadata": {},
   "outputs": [
    {
     "data": {
      "image/png": "[encoded data removed]",
      "text/plain": [
       "<matplotlib.figure.Figure at 0x1a17658950>"
      ]
     },
     "metadata": {},
     "output_type": "display_data"
    }
   ],
   "source": [
    "f, ((ax1, ax2), (ax3, ax4)) = plt.subplots(nrows=2,ncols=2,figsize=(11.7, 11))\n",
    "ax1.bar(x=['Introverted','Extroverted'], height=[np.mean(introverts_status),np.mean(extroverts_status)], color=['#660066','#ff99ff'])\n",
    "ax2.bar(x=['Intuitive','Sensing'], height=[np.mean(intuit_status),np.mean(sense_status)], color=['#99cc99','#002600'])\n",
    "ax3.bar(x=['Thinking','Feeling'], height=[np.mean(think_status),np.mean(feel_status)], color=['#f9f99d','#f0f20c'])\n",
    "ax4.bar(x=['Judging','Prospecting'],height=[np.mean(judge_status),np.mean(prospect_status)], color=['#9999ff','#3232ff'])\n",
    "ax1.set_ylabel('Number of published statuses')\n",
    "ax3.set_ylabel('Number of published statuses')\n",
    "plt.show()"
   ]
  },
  {
   "cell_type": "markdown",
   "metadata": {},
   "source": [
    "<h3><a id=\"fav\" style=\"color: black;\">Favorites Count</a></h3>"
   ]
  },
  {
   "cell_type": "markdown",
   "metadata": {},
   "source": [
    "<h4><a id=\"mfav\" style=\"color: black;\">Favorites count with respect to MBTI</a></h4>"
   ]
  },
  {
   "cell_type": "code",
   "execution_count": 58,
   "metadata": {},
   "outputs": [
    {
     "data": {
      "image/png": "[encoded data removed]",
      "text/plain": [
       "<matplotlib.figure.Figure at 0x1a175e8ad0>"
      ]
     },
     "metadata": {},
     "output_type": "display_data"
    }
   ],
   "source": [
    "plt.figure(figsize=(11.8, 7))\n",
    "cols = sorted(pd.unique(mbti_corpus.MBTI))\n",
    "sns.set_style(\"whitegrid\", {'axes.grid' : False})\n",
    "sns.barplot(x='MBTI', y='favorites_count', data=mbti_corpus,order=cols,palette=\"Blues_d\")\n",
    "plt.title('Number of favorites with respect to MBTI', fontsize=14)\n",
    "plt.xlabel('MBTI', fontsize=14)\n",
    "plt.ylabel('Number of favorites', fontsize=14)\n",
    "plt.show()"
   ]
  },
  {
   "cell_type": "markdown",
   "metadata": {},
   "source": [
    "<h4><a id=\"gfav\" style=\"color: black;\">Number of favorites by Gender</a></h4>"
   ]
  },
  {
   "cell_type": "code",
   "execution_count": 59,
   "metadata": {
    "collapsed": true
   },
   "outputs": [],
   "source": [
    "female_fav = mbti_corpus[mbti_corpus.Gender == 'f'].favorites_count\n",
    "male_fav = mbti_corpus[mbti_corpus.Gender == 'm'].favorites_count"
   ]
  },
  {
   "cell_type": "code",
   "execution_count": 60,
   "metadata": {},
   "outputs": [
    {
     "data": {
      "image/png": "[encoded data removed]",
      "text/plain": [
       "<matplotlib.figure.Figure at 0x1a1764efd0>"
      ]
     },
     "metadata": {},
     "output_type": "display_data"
    }
   ],
   "source": [
    "sns.set_style(\"whitegrid\", {'axes.grid' : False})\n",
    "sns.barplot(x=['Female','Male'], y=[np.mean(female_fav), np.mean(male_fav)], palette=\"Blues_d\")\n",
    "plt.title('Average number of favorties by gender', fontsize=14)\n",
    "plt.xlabel('Gender', fontsize=14)\n",
    "plt.ylabel('Number of favorites', fontsize=14)\n",
    "plt.show()"
   ]
  },
  {
   "cell_type": "markdown",
   "metadata": {},
   "source": [
    "<h4><a id=\"pfav\" style=\"color: black;\">Number of favorites by personality traits</a></h4>"
   ]
  },
  {
   "cell_type": "code",
   "execution_count": 61,
   "metadata": {
    "collapsed": true
   },
   "outputs": [],
   "source": [
    "introverts_fav = mbti_corpus[mbti_corpus.MBTI.str[0] == 'I'].favorites_count\n",
    "extroverts_fav = mbti_corpus[mbti_corpus.MBTI.str[0] == 'E'].favorites_count\n",
    "intuit_fav = mbti_corpus[mbti_corpus.MBTI.str[1] == 'N'].favorites_count\n",
    "sense_fav = mbti_corpus[mbti_corpus.MBTI.str[1] == 'S'].favorites_count\n",
    "think_fav = mbti_corpus[mbti_corpus.MBTI.str[2] == 'T'].favorites_count\n",
    "feel_fav = mbti_corpus[mbti_corpus.MBTI.str[2] == 'F'].favorites_count\n",
    "judge_fav = mbti_corpus[mbti_corpus.MBTI.str[3] == 'J'].favorites_count\n",
    "prospect_fav = mbti_corpus[mbti_corpus.MBTI.str[3] == 'P'].favorites_count"
   ]
  },
  {
   "cell_type": "code",
   "execution_count": 62,
   "metadata": {},
   "outputs": [
    {
     "data": {
      "image/png": "[encoded data removed]",
      "text/plain": [
       "<matplotlib.figure.Figure at 0x1a17b67810>"
      ]
     },
     "metadata": {},
     "output_type": "display_data"
    }
   ],
   "source": [
    "f, ((ax1, ax2), (ax3, ax4)) = plt.subplots(nrows=2,ncols=2,figsize=(11.7, 11))\n",
    "ax1.bar(x=['Introverted','Extroverted'], height=[np.mean(introverts_fav),np.mean(extroverts_fav)], color=['#660066','#ff99ff'])\n",
    "ax2.bar(x=['Intuitive','Sensing'], height=[np.mean(intuit_fav),np.mean(sense_fav)], color=['#99cc99','#002600'])\n",
    "ax3.bar(x=['Thinking','Feeling'], height=[np.mean(think_fav),np.mean(feel_fav)], color=['#f9f99d','#f0f20c'])\n",
    "ax4.bar(x=['Judging','Prospecting'],height=[np.mean(judge_fav),np.mean(prospect_fav)], color=['#9999ff','#3232ff'])\n",
    "ax1.set_ylabel('Number of favorites')\n",
    "ax3.set_ylabel('Number of favorites')\n",
    "plt.show()"
   ]
  },
  {
   "cell_type": "markdown",
   "metadata": {
    "collapsed": true
   },
   "source": [
    "<h3><a id=\"list\" style=\"color: black;\">Listed Count</a></h3>"
   ]
  },
  {
   "cell_type": "markdown",
   "metadata": {},
   "source": [
    "<h4><a id=\"ml\" style=\"color: black;\">Number of lists with respect to MBTI</a></h4>"
   ]
  },
  {
   "cell_type": "code",
   "execution_count": 63,
   "metadata": {},
   "outputs": [
    {
     "data": {
      "image/png": "[encoded data removed]",
      "text/plain": [
       "<matplotlib.figure.Figure at 0x1a17686dd0>"
      ]
     },
     "metadata": {},
     "output_type": "display_data"
    }
   ],
   "source": [
    "plt.figure(figsize=(11.8, 7))\n",
    "cols = sorted(pd.unique(mbti_corpus.MBTI))\n",
    "sns.set_style(\"whitegrid\", {'axes.grid' : False})\n",
    "sns.barplot(x='MBTI', y='listed_count', data=mbti_corpus,order=cols,palette=\"Blues_d\")\n",
    "plt.title('Number of user lists with respect to MBTI', fontsize=14)\n",
    "plt.xlabel('MBTI', fontsize=14)\n",
    "plt.ylabel('Number of lists', fontsize=14)\n",
    "plt.show()"
   ]
  },
  {
   "cell_type": "markdown",
   "metadata": {},
   "source": [
    "<h4><a id=\"gl\" style=\"color: black;\">Number of lists by gender</a></h4>"
   ]
  },
  {
   "cell_type": "code",
   "execution_count": 64,
   "metadata": {
    "collapsed": true
   },
   "outputs": [],
   "source": [
    "female_list = mbti_corpus[mbti_corpus.Gender == 'f'].listed_count\n",
    "male_list = mbti_corpus[mbti_corpus.Gender == 'm'].listed_count"
   ]
  },
  {
   "cell_type": "code",
   "execution_count": 65,
   "metadata": {},
   "outputs": [
    {
     "data": {
      "image/png": "[encoded data removed]",
      "text/plain": [
       "<matplotlib.figure.Figure at 0x10e488890>"
      ]
     },
     "metadata": {},
     "output_type": "display_data"
    }
   ],
   "source": [
    "sns.set_style(\"whitegrid\", {'axes.grid' : False})\n",
    "sns.barplot(x=['Female','Male'], y=[np.mean(female_list), np.mean(male_list)], palette=\"Blues_d\")\n",
    "plt.title('Average number of lists by gender', fontsize=14)\n",
    "plt.xlabel('Gender', fontsize=14)\n",
    "plt.ylabel('Number of lists', fontsize=14)\n",
    "plt.show()"
   ]
  },
  {
   "cell_type": "markdown",
   "metadata": {},
   "source": [
    "<h4><a id=\"pl\" style=\"color: black;\">Number of lists by personality trait</a></h4>"
   ]
  },
  {
   "cell_type": "code",
   "execution_count": 66,
   "metadata": {
    "collapsed": true
   },
   "outputs": [],
   "source": [
    "introverts_ls = mbti_corpus[mbti_corpus.MBTI.str[0] == 'I'].listed_count\n",
    "extroverts_ls = mbti_corpus[mbti_corpus.MBTI.str[0] == 'E'].listed_count\n",
    "intuit_ls = mbti_corpus[mbti_corpus.MBTI.str[1] == 'N'].listed_count\n",
    "sense_ls = mbti_corpus[mbti_corpus.MBTI.str[1] == 'S'].listed_count\n",
    "think_ls = mbti_corpus[mbti_corpus.MBTI.str[2] == 'T'].listed_count\n",
    "feel_ls = mbti_corpus[mbti_corpus.MBTI.str[2] == 'F'].listed_count\n",
    "judge_ls = mbti_corpus[mbti_corpus.MBTI.str[3] == 'J'].listed_count\n",
    "prospect_ls = mbti_corpus[mbti_corpus.MBTI.str[3] == 'P'].listed_count"
   ]
  },
  {
   "cell_type": "code",
   "execution_count": 67,
   "metadata": {},
   "outputs": [
    {
     "data": {
      "image/png": "[encoded data removed]",
      "text/plain": [
       "<matplotlib.figure.Figure at 0x10a0e9410>"
      ]
     },
     "metadata": {},
     "output_type": "display_data"
    }
   ],
   "source": [
    "f, ((ax1, ax2), (ax3, ax4)) = plt.subplots(nrows=2,ncols=2,figsize=(11.7, 11))\n",
    "ax1.bar(x=['Introverted','Extroverted'], height=[np.mean(introverts_ls),np.mean(extroverts_ls)], color=['#ff99ff','#660066'])\n",
    "ax2.bar(x=['Intuitive','Sensing'], height=[np.mean(intuit_ls),np.mean(sense_ls)], color=['#99cc99','#002600'])\n",
    "ax3.bar(x=['Thinking','Feeling'], height=[np.mean(think_ls),np.mean(feel_ls)], color=['#f9f99d','#f0f20c'])\n",
    "ax4.bar(x=['Judging','Prospecting'],height=[np.mean(judge_ls),np.mean(prospect_ls)], color=['#3232ff','#9999ff'])\n",
    "ax1.set_ylabel('Number of lists')\n",
    "ax3.set_ylabel('Number of lists')\n",
    "plt.show()"
   ]
  },
  {
   "cell_type": "markdown",
   "metadata": {
    "collapsed": true
   },
   "source": [
    "<h3>Profile Background Color</h3>"
   ]
  },
  {
   "cell_type": "code",
   "execution_count": 82,
   "metadata": {},
   "outputs": [],
   "source": [
    "mbti_corpus['profile_background_color'] = '#' + mbti_corpus['profile_background_color'].astype(str)"
   ]
  },
  {
   "cell_type": "code",
   "execution_count": 194,
   "metadata": {},
   "outputs": [],
   "source": [
    "color_dict = {}\n",
    "for color_p in mbti_corpus.profile_background_color.value_counts().index:\n",
    "    df = mbti_corpus[mbti_corpus.profile_background_color == color_p]\n",
    "    color_dict[color_p] = {mbti_type: float(len(df[df.MBTI == mbti_type]))*100/float(len(mbti_corpus[mbti_corpus.MBTI == mbti_type])) for mbti_type in df.MBTI.value_counts().index}  "
   ]
  },
  {
   "cell_type": "code",
   "execution_count": 195,
   "metadata": {},
   "outputs": [],
   "source": [
    "result = pd.DataFrame(color_dict)"
   ]
  },
  {
   "cell_type": "code",
   "execution_count": 196,
   "metadata": {},
   "outputs": [
    {
     "data": {
      "text/html": [
       "<div>\n",
       "<style>\n",
       "    .dataframe thead tr:only-child th {\n",
       "        text-align: right;\n",
       "    }\n",
       "\n",
       "    .dataframe thead th {\n",
       "        text-align: left;\n",
       "    }\n",
       "\n",
       "    .dataframe tbody tr th {\n",
       "        vertical-align: top;\n",
       "    }\n",
       "</style>\n",
       "<table border=\"1\" class=\"dataframe\">\n",
       "  <thead>\n",
       "    <tr style=\"text-align: right;\">\n",
       "      <th></th>\n",
       "      <th>#000000</th>\n",
       "      <th>#000047</th>\n",
       "      <th>#000205</th>\n",
       "      <th>#000508</th>\n",
       "      <th>#000800</th>\n",
       "      <th>#000908</th>\n",
       "      <th>#001500</th>\n",
       "      <th>#003300</th>\n",
       "      <th>#004466</th>\n",
       "      <th>#0099B9</th>\n",
       "      <th>...</th>\n",
       "      <th>#FFA50A</th>\n",
       "      <th>#FFAA6E</th>\n",
       "      <th>#FFCC33</th>\n",
       "      <th>#FFCC4D</th>\n",
       "      <th>#FFE8B5</th>\n",
       "      <th>#FFEEEE</th>\n",
       "      <th>#FFF04D</th>\n",
       "      <th>#FFFCF7</th>\n",
       "      <th>#FFFEFF</th>\n",
       "      <th>#FFFFFF</th>\n",
       "    </tr>\n",
       "  </thead>\n",
       "  <tbody>\n",
       "    <tr>\n",
       "      <th>ENFJ</th>\n",
       "      <td>8.571429</td>\n",
       "      <td>0.000000</td>\n",
       "      <td>0.000000</td>\n",
       "      <td>0.000000</td>\n",
       "      <td>0.000000</td>\n",
       "      <td>0.000000</td>\n",
       "      <td>0.000000</td>\n",
       "      <td>0.000000</td>\n",
       "      <td>0.000000</td>\n",
       "      <td>3.809524</td>\n",
       "      <td>...</td>\n",
       "      <td>0.000000</td>\n",
       "      <td>0.000000</td>\n",
       "      <td>0.000000</td>\n",
       "      <td>0.000000</td>\n",
       "      <td>0.000000</td>\n",
       "      <td>0.000000</td>\n",
       "      <td>0.000000</td>\n",
       "      <td>0.000000</td>\n",
       "      <td>0.000000</td>\n",
       "      <td>7.619048</td>\n",
       "    </tr>\n",
       "    <tr>\n",
       "      <th>ENFP</th>\n",
       "      <td>12.837838</td>\n",
       "      <td>0.000000</td>\n",
       "      <td>0.000000</td>\n",
       "      <td>0.675676</td>\n",
       "      <td>0.000000</td>\n",
       "      <td>0.000000</td>\n",
       "      <td>0.000000</td>\n",
       "      <td>0.000000</td>\n",
       "      <td>0.000000</td>\n",
       "      <td>1.351351</td>\n",
       "      <td>...</td>\n",
       "      <td>0.000000</td>\n",
       "      <td>0.000000</td>\n",
       "      <td>0.000000</td>\n",
       "      <td>0.000000</td>\n",
       "      <td>0.000000</td>\n",
       "      <td>0.000000</td>\n",
       "      <td>0.000000</td>\n",
       "      <td>0.000000</td>\n",
       "      <td>0.000000</td>\n",
       "      <td>7.432432</td>\n",
       "    </tr>\n",
       "    <tr>\n",
       "      <th>ENTJ</th>\n",
       "      <td>9.803922</td>\n",
       "      <td>0.000000</td>\n",
       "      <td>0.000000</td>\n",
       "      <td>0.000000</td>\n",
       "      <td>0.980392</td>\n",
       "      <td>0.000000</td>\n",
       "      <td>0.000000</td>\n",
       "      <td>0.000000</td>\n",
       "      <td>0.000000</td>\n",
       "      <td>1.960784</td>\n",
       "      <td>...</td>\n",
       "      <td>0.000000</td>\n",
       "      <td>0.000000</td>\n",
       "      <td>0.000000</td>\n",
       "      <td>0.980392</td>\n",
       "      <td>0.000000</td>\n",
       "      <td>0.000000</td>\n",
       "      <td>1.960784</td>\n",
       "      <td>0.000000</td>\n",
       "      <td>0.000000</td>\n",
       "      <td>4.901961</td>\n",
       "    </tr>\n",
       "    <tr>\n",
       "      <th>ENTP</th>\n",
       "      <td>7.142857</td>\n",
       "      <td>0.000000</td>\n",
       "      <td>0.000000</td>\n",
       "      <td>0.000000</td>\n",
       "      <td>0.000000</td>\n",
       "      <td>0.000000</td>\n",
       "      <td>0.000000</td>\n",
       "      <td>0.000000</td>\n",
       "      <td>0.000000</td>\n",
       "      <td>0.000000</td>\n",
       "      <td>...</td>\n",
       "      <td>0.000000</td>\n",
       "      <td>0.000000</td>\n",
       "      <td>0.000000</td>\n",
       "      <td>0.000000</td>\n",
       "      <td>0.000000</td>\n",
       "      <td>0.000000</td>\n",
       "      <td>1.428571</td>\n",
       "      <td>0.000000</td>\n",
       "      <td>0.000000</td>\n",
       "      <td>5.714286</td>\n",
       "    </tr>\n",
       "    <tr>\n",
       "      <th>ESFJ</th>\n",
       "      <td>2.777778</td>\n",
       "      <td>0.000000</td>\n",
       "      <td>0.000000</td>\n",
       "      <td>0.000000</td>\n",
       "      <td>0.000000</td>\n",
       "      <td>0.000000</td>\n",
       "      <td>0.000000</td>\n",
       "      <td>0.000000</td>\n",
       "      <td>0.000000</td>\n",
       "      <td>2.777778</td>\n",
       "      <td>...</td>\n",
       "      <td>0.000000</td>\n",
       "      <td>0.000000</td>\n",
       "      <td>0.000000</td>\n",
       "      <td>0.000000</td>\n",
       "      <td>0.000000</td>\n",
       "      <td>0.000000</td>\n",
       "      <td>0.000000</td>\n",
       "      <td>0.000000</td>\n",
       "      <td>2.777778</td>\n",
       "      <td>2.777778</td>\n",
       "    </tr>\n",
       "    <tr>\n",
       "      <th>ESFP</th>\n",
       "      <td>15.384615</td>\n",
       "      <td>0.000000</td>\n",
       "      <td>0.000000</td>\n",
       "      <td>0.000000</td>\n",
       "      <td>0.000000</td>\n",
       "      <td>0.000000</td>\n",
       "      <td>0.000000</td>\n",
       "      <td>0.000000</td>\n",
       "      <td>0.000000</td>\n",
       "      <td>0.000000</td>\n",
       "      <td>...</td>\n",
       "      <td>0.000000</td>\n",
       "      <td>0.000000</td>\n",
       "      <td>0.000000</td>\n",
       "      <td>0.000000</td>\n",
       "      <td>0.000000</td>\n",
       "      <td>0.000000</td>\n",
       "      <td>0.000000</td>\n",
       "      <td>0.000000</td>\n",
       "      <td>0.000000</td>\n",
       "      <td>3.846154</td>\n",
       "    </tr>\n",
       "    <tr>\n",
       "      <th>ESTJ</th>\n",
       "      <td>11.111111</td>\n",
       "      <td>0.000000</td>\n",
       "      <td>0.000000</td>\n",
       "      <td>0.000000</td>\n",
       "      <td>0.000000</td>\n",
       "      <td>0.000000</td>\n",
       "      <td>0.000000</td>\n",
       "      <td>0.000000</td>\n",
       "      <td>0.000000</td>\n",
       "      <td>0.000000</td>\n",
       "      <td>...</td>\n",
       "      <td>0.000000</td>\n",
       "      <td>0.000000</td>\n",
       "      <td>0.000000</td>\n",
       "      <td>0.000000</td>\n",
       "      <td>0.000000</td>\n",
       "      <td>0.000000</td>\n",
       "      <td>2.777778</td>\n",
       "      <td>0.000000</td>\n",
       "      <td>0.000000</td>\n",
       "      <td>11.111111</td>\n",
       "    </tr>\n",
       "    <tr>\n",
       "      <th>ESTP</th>\n",
       "      <td>0.000000</td>\n",
       "      <td>0.000000</td>\n",
       "      <td>0.000000</td>\n",
       "      <td>0.000000</td>\n",
       "      <td>0.000000</td>\n",
       "      <td>0.000000</td>\n",
       "      <td>0.000000</td>\n",
       "      <td>0.000000</td>\n",
       "      <td>0.000000</td>\n",
       "      <td>0.000000</td>\n",
       "      <td>...</td>\n",
       "      <td>0.000000</td>\n",
       "      <td>0.000000</td>\n",
       "      <td>0.000000</td>\n",
       "      <td>6.666667</td>\n",
       "      <td>0.000000</td>\n",
       "      <td>0.000000</td>\n",
       "      <td>0.000000</td>\n",
       "      <td>0.000000</td>\n",
       "      <td>0.000000</td>\n",
       "      <td>13.333333</td>\n",
       "    </tr>\n",
       "    <tr>\n",
       "      <th>INFJ</th>\n",
       "      <td>12.451362</td>\n",
       "      <td>0.389105</td>\n",
       "      <td>0.000000</td>\n",
       "      <td>0.000000</td>\n",
       "      <td>0.000000</td>\n",
       "      <td>0.000000</td>\n",
       "      <td>0.000000</td>\n",
       "      <td>0.000000</td>\n",
       "      <td>0.000000</td>\n",
       "      <td>1.556420</td>\n",
       "      <td>...</td>\n",
       "      <td>0.000000</td>\n",
       "      <td>0.000000</td>\n",
       "      <td>0.000000</td>\n",
       "      <td>0.000000</td>\n",
       "      <td>0.389105</td>\n",
       "      <td>0.000000</td>\n",
       "      <td>1.556420</td>\n",
       "      <td>0.000000</td>\n",
       "      <td>0.000000</td>\n",
       "      <td>5.836576</td>\n",
       "    </tr>\n",
       "    <tr>\n",
       "      <th>INFP</th>\n",
       "      <td>14.285714</td>\n",
       "      <td>0.000000</td>\n",
       "      <td>0.000000</td>\n",
       "      <td>0.000000</td>\n",
       "      <td>0.000000</td>\n",
       "      <td>0.000000</td>\n",
       "      <td>0.000000</td>\n",
       "      <td>0.000000</td>\n",
       "      <td>0.571429</td>\n",
       "      <td>1.714286</td>\n",
       "      <td>...</td>\n",
       "      <td>0.000000</td>\n",
       "      <td>0.000000</td>\n",
       "      <td>0.000000</td>\n",
       "      <td>0.571429</td>\n",
       "      <td>0.000000</td>\n",
       "      <td>0.000000</td>\n",
       "      <td>0.000000</td>\n",
       "      <td>0.000000</td>\n",
       "      <td>0.000000</td>\n",
       "      <td>7.428571</td>\n",
       "    </tr>\n",
       "    <tr>\n",
       "      <th>INTJ</th>\n",
       "      <td>12.953368</td>\n",
       "      <td>0.000000</td>\n",
       "      <td>0.000000</td>\n",
       "      <td>0.000000</td>\n",
       "      <td>0.000000</td>\n",
       "      <td>0.518135</td>\n",
       "      <td>0.000000</td>\n",
       "      <td>0.518135</td>\n",
       "      <td>0.000000</td>\n",
       "      <td>1.036269</td>\n",
       "      <td>...</td>\n",
       "      <td>0.000000</td>\n",
       "      <td>0.518135</td>\n",
       "      <td>0.000000</td>\n",
       "      <td>0.518135</td>\n",
       "      <td>0.000000</td>\n",
       "      <td>0.000000</td>\n",
       "      <td>1.554404</td>\n",
       "      <td>0.518135</td>\n",
       "      <td>0.000000</td>\n",
       "      <td>3.108808</td>\n",
       "    </tr>\n",
       "    <tr>\n",
       "      <th>INTP</th>\n",
       "      <td>11.711712</td>\n",
       "      <td>0.000000</td>\n",
       "      <td>0.900901</td>\n",
       "      <td>0.000000</td>\n",
       "      <td>0.000000</td>\n",
       "      <td>0.000000</td>\n",
       "      <td>0.000000</td>\n",
       "      <td>0.000000</td>\n",
       "      <td>0.000000</td>\n",
       "      <td>0.900901</td>\n",
       "      <td>...</td>\n",
       "      <td>0.900901</td>\n",
       "      <td>0.000000</td>\n",
       "      <td>0.900901</td>\n",
       "      <td>0.000000</td>\n",
       "      <td>0.000000</td>\n",
       "      <td>0.900901</td>\n",
       "      <td>0.000000</td>\n",
       "      <td>0.000000</td>\n",
       "      <td>0.000000</td>\n",
       "      <td>7.207207</td>\n",
       "    </tr>\n",
       "    <tr>\n",
       "      <th>ISFJ</th>\n",
       "      <td>11.688312</td>\n",
       "      <td>0.000000</td>\n",
       "      <td>0.000000</td>\n",
       "      <td>0.000000</td>\n",
       "      <td>0.000000</td>\n",
       "      <td>0.000000</td>\n",
       "      <td>1.298701</td>\n",
       "      <td>0.000000</td>\n",
       "      <td>0.000000</td>\n",
       "      <td>1.298701</td>\n",
       "      <td>...</td>\n",
       "      <td>0.000000</td>\n",
       "      <td>0.000000</td>\n",
       "      <td>0.000000</td>\n",
       "      <td>0.000000</td>\n",
       "      <td>0.000000</td>\n",
       "      <td>0.000000</td>\n",
       "      <td>0.000000</td>\n",
       "      <td>0.000000</td>\n",
       "      <td>0.000000</td>\n",
       "      <td>10.389610</td>\n",
       "    </tr>\n",
       "    <tr>\n",
       "      <th>ISFP</th>\n",
       "      <td>15.686275</td>\n",
       "      <td>0.000000</td>\n",
       "      <td>0.000000</td>\n",
       "      <td>0.000000</td>\n",
       "      <td>0.000000</td>\n",
       "      <td>0.000000</td>\n",
       "      <td>0.000000</td>\n",
       "      <td>0.000000</td>\n",
       "      <td>0.000000</td>\n",
       "      <td>1.960784</td>\n",
       "      <td>...</td>\n",
       "      <td>0.000000</td>\n",
       "      <td>0.000000</td>\n",
       "      <td>0.000000</td>\n",
       "      <td>0.000000</td>\n",
       "      <td>0.000000</td>\n",
       "      <td>0.000000</td>\n",
       "      <td>0.000000</td>\n",
       "      <td>0.000000</td>\n",
       "      <td>0.000000</td>\n",
       "      <td>5.882353</td>\n",
       "    </tr>\n",
       "    <tr>\n",
       "      <th>ISTJ</th>\n",
       "      <td>12.000000</td>\n",
       "      <td>0.000000</td>\n",
       "      <td>0.000000</td>\n",
       "      <td>0.000000</td>\n",
       "      <td>0.000000</td>\n",
       "      <td>0.000000</td>\n",
       "      <td>0.000000</td>\n",
       "      <td>0.000000</td>\n",
       "      <td>0.000000</td>\n",
       "      <td>2.666667</td>\n",
       "      <td>...</td>\n",
       "      <td>0.000000</td>\n",
       "      <td>0.000000</td>\n",
       "      <td>0.000000</td>\n",
       "      <td>0.000000</td>\n",
       "      <td>0.000000</td>\n",
       "      <td>0.000000</td>\n",
       "      <td>1.333333</td>\n",
       "      <td>0.000000</td>\n",
       "      <td>0.000000</td>\n",
       "      <td>9.333333</td>\n",
       "    </tr>\n",
       "    <tr>\n",
       "      <th>ISTP</th>\n",
       "      <td>18.181818</td>\n",
       "      <td>0.000000</td>\n",
       "      <td>0.000000</td>\n",
       "      <td>0.000000</td>\n",
       "      <td>0.000000</td>\n",
       "      <td>0.000000</td>\n",
       "      <td>0.000000</td>\n",
       "      <td>0.000000</td>\n",
       "      <td>0.000000</td>\n",
       "      <td>9.090909</td>\n",
       "      <td>...</td>\n",
       "      <td>0.000000</td>\n",
       "      <td>0.000000</td>\n",
       "      <td>0.000000</td>\n",
       "      <td>0.000000</td>\n",
       "      <td>0.000000</td>\n",
       "      <td>0.000000</td>\n",
       "      <td>0.000000</td>\n",
       "      <td>0.000000</td>\n",
       "      <td>0.000000</td>\n",
       "      <td>13.636364</td>\n",
       "    </tr>\n",
       "  </tbody>\n",
       "</table>\n",
       "<p>16 rows × 346 columns</p>\n",
       "</div>"
      ],
      "text/plain": [
       "        #000000   #000047   #000205   #000508   #000800   #000908   #001500  \\\n",
       "ENFJ   8.571429  0.000000  0.000000  0.000000  0.000000  0.000000  0.000000   \n",
       "ENFP  12.837838  0.000000  0.000000  0.675676  0.000000  0.000000  0.000000   \n",
       "ENTJ   9.803922  0.000000  0.000000  0.000000  0.980392  0.000000  0.000000   \n",
       "ENTP   7.142857  0.000000  0.000000  0.000000  0.000000  0.000000  0.000000   \n",
       "ESFJ   2.777778  0.000000  0.000000  0.000000  0.000000  0.000000  0.000000   \n",
       "ESFP  15.384615  0.000000  0.000000  0.000000  0.000000  0.000000  0.000000   \n",
       "ESTJ  11.111111  0.000000  0.000000  0.000000  0.000000  0.000000  0.000000   \n",
       "ESTP   0.000000  0.000000  0.000000  0.000000  0.000000  0.000000  0.000000   \n",
       "INFJ  12.451362  0.389105  0.000000  0.000000  0.000000  0.000000  0.000000   \n",
       "INFP  14.285714  0.000000  0.000000  0.000000  0.000000  0.000000  0.000000   \n",
       "INTJ  12.953368  0.000000  0.000000  0.000000  0.000000  0.518135  0.000000   \n",
       "INTP  11.711712  0.000000  0.900901  0.000000  0.000000  0.000000  0.000000   \n",
       "ISFJ  11.688312  0.000000  0.000000  0.000000  0.000000  0.000000  1.298701   \n",
       "ISFP  15.686275  0.000000  0.000000  0.000000  0.000000  0.000000  0.000000   \n",
       "ISTJ  12.000000  0.000000  0.000000  0.000000  0.000000  0.000000  0.000000   \n",
       "ISTP  18.181818  0.000000  0.000000  0.000000  0.000000  0.000000  0.000000   \n",
       "\n",
       "       #003300   #004466   #0099B9    ...       #FFA50A   #FFAA6E   #FFCC33  \\\n",
       "ENFJ  0.000000  0.000000  3.809524    ...      0.000000  0.000000  0.000000   \n",
       "ENFP  0.000000  0.000000  1.351351    ...      0.000000  0.000000  0.000000   \n",
       "ENTJ  0.000000  0.000000  1.960784    ...      0.000000  0.000000  0.000000   \n",
       "ENTP  0.000000  0.000000  0.000000    ...      0.000000  0.000000  0.000000   \n",
       "ESFJ  0.000000  0.000000  2.777778    ...      0.000000  0.000000  0.000000   \n",
       "ESFP  0.000000  0.000000  0.000000    ...      0.000000  0.000000  0.000000   \n",
       "ESTJ  0.000000  0.000000  0.000000    ...      0.000000  0.000000  0.000000   \n",
       "ESTP  0.000000  0.000000  0.000000    ...      0.000000  0.000000  0.000000   \n",
       "INFJ  0.000000  0.000000  1.556420    ...      0.000000  0.000000  0.000000   \n",
       "INFP  0.000000  0.571429  1.714286    ...      0.000000  0.000000  0.000000   \n",
       "INTJ  0.518135  0.000000  1.036269    ...      0.000000  0.518135  0.000000   \n",
       "INTP  0.000000  0.000000  0.900901    ...      0.900901  0.000000  0.900901   \n",
       "ISFJ  0.000000  0.000000  1.298701    ...      0.000000  0.000000  0.000000   \n",
       "ISFP  0.000000  0.000000  1.960784    ...      0.000000  0.000000  0.000000   \n",
       "ISTJ  0.000000  0.000000  2.666667    ...      0.000000  0.000000  0.000000   \n",
       "ISTP  0.000000  0.000000  9.090909    ...      0.000000  0.000000  0.000000   \n",
       "\n",
       "       #FFCC4D   #FFE8B5   #FFEEEE   #FFF04D   #FFFCF7   #FFFEFF    #FFFFFF  \n",
       "ENFJ  0.000000  0.000000  0.000000  0.000000  0.000000  0.000000   7.619048  \n",
       "ENFP  0.000000  0.000000  0.000000  0.000000  0.000000  0.000000   7.432432  \n",
       "ENTJ  0.980392  0.000000  0.000000  1.960784  0.000000  0.000000   4.901961  \n",
       "ENTP  0.000000  0.000000  0.000000  1.428571  0.000000  0.000000   5.714286  \n",
       "ESFJ  0.000000  0.000000  0.000000  0.000000  0.000000  2.777778   2.777778  \n",
       "ESFP  0.000000  0.000000  0.000000  0.000000  0.000000  0.000000   3.846154  \n",
       "ESTJ  0.000000  0.000000  0.000000  2.777778  0.000000  0.000000  11.111111  \n",
       "ESTP  6.666667  0.000000  0.000000  0.000000  0.000000  0.000000  13.333333  \n",
       "INFJ  0.000000  0.389105  0.000000  1.556420  0.000000  0.000000   5.836576  \n",
       "INFP  0.571429  0.000000  0.000000  0.000000  0.000000  0.000000   7.428571  \n",
       "INTJ  0.518135  0.000000  0.000000  1.554404  0.518135  0.000000   3.108808  \n",
       "INTP  0.000000  0.000000  0.900901  0.000000  0.000000  0.000000   7.207207  \n",
       "ISFJ  0.000000  0.000000  0.000000  0.000000  0.000000  0.000000  10.389610  \n",
       "ISFP  0.000000  0.000000  0.000000  0.000000  0.000000  0.000000   5.882353  \n",
       "ISTJ  0.000000  0.000000  0.000000  1.333333  0.000000  0.000000   9.333333  \n",
       "ISTP  0.000000  0.000000  0.000000  0.000000  0.000000  0.000000  13.636364  \n",
       "\n",
       "[16 rows x 346 columns]"
      ]
     },
     "execution_count": 196,
     "metadata": {},
     "output_type": "execute_result"
    }
   ],
   "source": [
    "result.fillna(0)"
   ]
  },
  {
   "cell_type": "code",
   "execution_count": 215,
   "metadata": {
    "collapsed": true
   },
   "outputs": [],
   "source": [
    "arc_col = []\n",
    "for col_type in result.columns:\n",
    "    arc_col.append(col_type)"
   ]
  },
  {
   "cell_type": "code",
   "execution_count": 234,
   "metadata": {},
   "outputs": [
    {
     "data": {
      "image/png": "[encoded data removed]",
      "text/plain": [
       "<matplotlib.figure.Figure at 0x1a201df8d0>"
      ]
     },
     "metadata": {},
     "output_type": "display_data"
    }
   ],
   "source": [
    "plt.figure(figsize=(11.8, 10))\n",
    "bottom_arr = 0 \n",
    "barWidth = 0.9\n",
    "for col in range(0,len(arc_col)):\n",
    "    bottom_arr = result.iloc[:,0:col].sum(axis=1)\n",
    "    plt.bar(result.index.values, result[arc_col[col]],edgecolor='black',width=barWidth, color=arc_col[col],bottom=bottom_arr, linewidth=1.2)\n",
    "plt.show()"
   ]
  },
  {
   "cell_type": "markdown",
   "metadata": {},
   "source": [
    "<h4>Background color variations by gender</h4>"
   ]
  },
  {
   "cell_type": "code",
   "execution_count": 235,
   "metadata": {
    "collapsed": true
   },
   "outputs": [],
   "source": [
    "color_dict = {}\n",
    "for color_p in mbti_corpus.profile_background_color.value_counts().index:\n",
    "    df = mbti_corpus[mbti_corpus.profile_background_color == color_p]\n",
    "    color_dict[color_p] = {gender: float(len(df[df.Gender == gender]))*100/float(len(mbti_corpus[mbti_corpus.Gender == gender])) for gender in df.Gender.value_counts().index}  "
   ]
  },
  {
   "cell_type": "code",
   "execution_count": 236,
   "metadata": {
    "collapsed": true
   },
   "outputs": [],
   "source": [
    "result = pd.DataFrame(color_dict)"
   ]
  },
  {
   "cell_type": "code",
   "execution_count": 237,
   "metadata": {},
   "outputs": [
    {
     "data": {
      "text/html": [
       "<div>\n",
       "<style>\n",
       "    .dataframe thead tr:only-child th {\n",
       "        text-align: right;\n",
       "    }\n",
       "\n",
       "    .dataframe thead th {\n",
       "        text-align: left;\n",
       "    }\n",
       "\n",
       "    .dataframe tbody tr th {\n",
       "        vertical-align: top;\n",
       "    }\n",
       "</style>\n",
       "<table border=\"1\" class=\"dataframe\">\n",
       "  <thead>\n",
       "    <tr style=\"text-align: right;\">\n",
       "      <th></th>\n",
       "      <th>#000000</th>\n",
       "      <th>#000047</th>\n",
       "      <th>#000205</th>\n",
       "      <th>#000508</th>\n",
       "      <th>#000800</th>\n",
       "      <th>#000908</th>\n",
       "      <th>#001500</th>\n",
       "      <th>#003300</th>\n",
       "      <th>#004466</th>\n",
       "      <th>#0099B9</th>\n",
       "      <th>...</th>\n",
       "      <th>#FFA50A</th>\n",
       "      <th>#FFAA6E</th>\n",
       "      <th>#FFCC33</th>\n",
       "      <th>#FFCC4D</th>\n",
       "      <th>#FFE8B5</th>\n",
       "      <th>#FFEEEE</th>\n",
       "      <th>#FFF04D</th>\n",
       "      <th>#FFFCF7</th>\n",
       "      <th>#FFFEFF</th>\n",
       "      <th>#FFFFFF</th>\n",
       "    </tr>\n",
       "  </thead>\n",
       "  <tbody>\n",
       "    <tr>\n",
       "      <th>f</th>\n",
       "      <td>12.260128</td>\n",
       "      <td>0.000000</td>\n",
       "      <td>0.10661</td>\n",
       "      <td>0.10661</td>\n",
       "      <td>0.000000</td>\n",
       "      <td>0.000000</td>\n",
       "      <td>0.10661</td>\n",
       "      <td>0.000000</td>\n",
       "      <td>0.000000</td>\n",
       "      <td>1.812367</td>\n",
       "      <td>...</td>\n",
       "      <td>0.000000</td>\n",
       "      <td>0.000000</td>\n",
       "      <td>0.000000</td>\n",
       "      <td>0.426439</td>\n",
       "      <td>0.10661</td>\n",
       "      <td>0.10661</td>\n",
       "      <td>0.959488</td>\n",
       "      <td>0.10661</td>\n",
       "      <td>0.10661</td>\n",
       "      <td>7.356077</td>\n",
       "    </tr>\n",
       "    <tr>\n",
       "      <th>m</th>\n",
       "      <td>11.051693</td>\n",
       "      <td>0.178253</td>\n",
       "      <td>0.00000</td>\n",
       "      <td>0.00000</td>\n",
       "      <td>0.178253</td>\n",
       "      <td>0.178253</td>\n",
       "      <td>0.00000</td>\n",
       "      <td>0.178253</td>\n",
       "      <td>0.178253</td>\n",
       "      <td>1.426025</td>\n",
       "      <td>...</td>\n",
       "      <td>0.178253</td>\n",
       "      <td>0.178253</td>\n",
       "      <td>0.178253</td>\n",
       "      <td>0.000000</td>\n",
       "      <td>0.00000</td>\n",
       "      <td>0.00000</td>\n",
       "      <td>0.534759</td>\n",
       "      <td>0.00000</td>\n",
       "      <td>0.00000</td>\n",
       "      <td>5.347594</td>\n",
       "    </tr>\n",
       "  </tbody>\n",
       "</table>\n",
       "<p>2 rows × 346 columns</p>\n",
       "</div>"
      ],
      "text/plain": [
       "     #000000   #000047  #000205  #000508   #000800   #000908  #001500  \\\n",
       "f  12.260128  0.000000  0.10661  0.10661  0.000000  0.000000  0.10661   \n",
       "m  11.051693  0.178253  0.00000  0.00000  0.178253  0.178253  0.00000   \n",
       "\n",
       "    #003300   #004466   #0099B9    ...      #FFA50A   #FFAA6E   #FFCC33  \\\n",
       "f  0.000000  0.000000  1.812367    ...     0.000000  0.000000  0.000000   \n",
       "m  0.178253  0.178253  1.426025    ...     0.178253  0.178253  0.178253   \n",
       "\n",
       "    #FFCC4D  #FFE8B5  #FFEEEE   #FFF04D  #FFFCF7  #FFFEFF   #FFFFFF  \n",
       "f  0.426439  0.10661  0.10661  0.959488  0.10661  0.10661  7.356077  \n",
       "m  0.000000  0.00000  0.00000  0.534759  0.00000  0.00000  5.347594  \n",
       "\n",
       "[2 rows x 346 columns]"
      ]
     },
     "execution_count": 237,
     "metadata": {},
     "output_type": "execute_result"
    }
   ],
   "source": [
    "result.fillna(0)"
   ]
  },
  {
   "cell_type": "code",
   "execution_count": 238,
   "metadata": {
    "collapsed": true
   },
   "outputs": [],
   "source": [
    "arc_col = []\n",
    "for col_type in result.columns:\n",
    "    arc_col.append(col_type)"
   ]
  },
  {
   "cell_type": "code",
   "execution_count": 239,
   "metadata": {},
   "outputs": [
    {
     "data": {
      "image/png": "[encoded data removed]",
      "text/plain": [
       "<matplotlib.figure.Figure at 0x1a20fe5110>"
      ]
     },
     "metadata": {},
     "output_type": "display_data"
    }
   ],
   "source": [
    "plt.figure(figsize=(11.8, 10))\n",
    "bottom_arr = 0 \n",
    "barWidth = 0.9\n",
    "for col in range(0,len(arc_col)):\n",
    "    bottom_arr = result.iloc[:,0:col].sum(axis=1)\n",
    "    plt.bar(result.index.values, result[arc_col[col]],edgecolor='black',width=barWidth, color=arc_col[col],bottom=bottom_arr, linewidth=1.2)\n",
    "plt.show()"
   ]
  },
  {
   "cell_type": "markdown",
   "metadata": {},
   "source": [
    "<h4>Background color variations by personality traits</h4>"
   ]
  },
  {
   "cell_type": "code",
   "execution_count": 255,
   "metadata": {
    "collapsed": true
   },
   "outputs": [],
   "source": [
    "def color_dict(label,str_num):\n",
    "    color_dict = {}\n",
    "    for color_p in mbti_corpus.profile_background_color.value_counts().index:\n",
    "        df = mbti_corpus[mbti_corpus.profile_background_color == color_p]\n",
    "        color_dict[color_p] = {str1: float(len(df[df.MBTI.str[str_num] == str1]))*100/float(len(mbti_corpus.MBTI.str[str_num] == str1)) for str1 in label}\n",
    "    result = pd.DataFrame(color_dict)\n",
    "    result = result.fillna(0)\n",
    "    return result"
   ]
  },
  {
   "cell_type": "code",
   "execution_count": 256,
   "metadata": {
    "collapsed": true
   },
   "outputs": [],
   "source": [
    "intro_extra = color_dict(['I','E'],0)\n",
    "intuit_sense = color_dict(['N','S'],1)\n",
    "think_feel = color_dict(['T','F'],2)\n",
    "judge_perceive = color_dict(['J','P'],3)"
   ]
  },
  {
   "cell_type": "code",
   "execution_count": 259,
   "metadata": {
    "collapsed": true
   },
   "outputs": [],
   "source": [
    "arc_col = []\n",
    "for col_type in intro_extra.columns:\n",
    "    arc_col.append(col_type)"
   ]
  },
  {
   "cell_type": "code",
   "execution_count": 260,
   "metadata": {},
   "outputs": [
    {
     "data": {
      "image/png": "[encoded data removed]",
      "text/plain": [
       "<matplotlib.figure.Figure at 0x10e698510>"
      ]
     },
     "metadata": {},
     "output_type": "display_data"
    }
   ],
   "source": [
    "plt.figure(figsize=(11.8, 10))\n",
    "bottom_arr = 0 \n",
    "barWidth = 0.9\n",
    "for col in range(0,len(arc_col)):\n",
    "    bottom_arr = result.iloc[:,0:col].sum(axis=1)\n",
    "    plt.bar(intro_extra.index.values, intro_extra[arc_col[col]],edgecolor='black',width=barWidth, color=arc_col[col],bottom=bottom_arr, linewidth=1.2)\n",
    "plt.show()"
   ]
  },
  {
   "cell_type": "code",
   "execution_count": 261,
   "metadata": {},
   "outputs": [
    {
     "data": {
      "text/html": [
       "<div>\n",
       "<style>\n",
       "    .dataframe thead tr:only-child th {\n",
       "        text-align: right;\n",
       "    }\n",
       "\n",
       "    .dataframe thead th {\n",
       "        text-align: left;\n",
       "    }\n",
       "\n",
       "    .dataframe tbody tr th {\n",
       "        vertical-align: top;\n",
       "    }\n",
       "</style>\n",
       "<table border=\"1\" class=\"dataframe\">\n",
       "  <thead>\n",
       "    <tr style=\"text-align: right;\">\n",
       "      <th></th>\n",
       "      <th>#000000</th>\n",
       "      <th>#000047</th>\n",
       "      <th>#000205</th>\n",
       "      <th>#000508</th>\n",
       "      <th>#000800</th>\n",
       "      <th>#000908</th>\n",
       "      <th>#001500</th>\n",
       "      <th>#003300</th>\n",
       "      <th>#004466</th>\n",
       "      <th>#0099B9</th>\n",
       "      <th>...</th>\n",
       "      <th>#FFA50A</th>\n",
       "      <th>#FFAA6E</th>\n",
       "      <th>#FFCC33</th>\n",
       "      <th>#FFCC4D</th>\n",
       "      <th>#FFE8B5</th>\n",
       "      <th>#FFEEEE</th>\n",
       "      <th>#FFF04D</th>\n",
       "      <th>#FFFCF7</th>\n",
       "      <th>#FFFEFF</th>\n",
       "      <th>#FFFFFF</th>\n",
       "    </tr>\n",
       "  </thead>\n",
       "  <tbody>\n",
       "    <tr>\n",
       "      <th>E</th>\n",
       "      <td>3.468979</td>\n",
       "      <td>0.000000</td>\n",
       "      <td>0.000000</td>\n",
       "      <td>0.066711</td>\n",
       "      <td>0.066711</td>\n",
       "      <td>0.000000</td>\n",
       "      <td>0.000000</td>\n",
       "      <td>0.000000</td>\n",
       "      <td>0.000000</td>\n",
       "      <td>0.600400</td>\n",
       "      <td>...</td>\n",
       "      <td>0.000000</td>\n",
       "      <td>0.000000</td>\n",
       "      <td>0.000000</td>\n",
       "      <td>0.133422</td>\n",
       "      <td>0.000000</td>\n",
       "      <td>0.000000</td>\n",
       "      <td>0.266845</td>\n",
       "      <td>0.000000</td>\n",
       "      <td>0.066711</td>\n",
       "      <td>2.401601</td>\n",
       "    </tr>\n",
       "    <tr>\n",
       "      <th>I</th>\n",
       "      <td>8.338893</td>\n",
       "      <td>0.066711</td>\n",
       "      <td>0.066711</td>\n",
       "      <td>0.000000</td>\n",
       "      <td>0.000000</td>\n",
       "      <td>0.066711</td>\n",
       "      <td>0.066711</td>\n",
       "      <td>0.066711</td>\n",
       "      <td>0.066711</td>\n",
       "      <td>1.067378</td>\n",
       "      <td>...</td>\n",
       "      <td>0.066711</td>\n",
       "      <td>0.066711</td>\n",
       "      <td>0.066711</td>\n",
       "      <td>0.133422</td>\n",
       "      <td>0.066711</td>\n",
       "      <td>0.066711</td>\n",
       "      <td>0.533689</td>\n",
       "      <td>0.066711</td>\n",
       "      <td>0.000000</td>\n",
       "      <td>4.202802</td>\n",
       "    </tr>\n",
       "  </tbody>\n",
       "</table>\n",
       "<p>2 rows × 346 columns</p>\n",
       "</div>"
      ],
      "text/plain": [
       "    #000000   #000047   #000205   #000508   #000800   #000908   #001500  \\\n",
       "E  3.468979  0.000000  0.000000  0.066711  0.066711  0.000000  0.000000   \n",
       "I  8.338893  0.066711  0.066711  0.000000  0.000000  0.066711  0.066711   \n",
       "\n",
       "    #003300   #004466   #0099B9    ...      #FFA50A   #FFAA6E   #FFCC33  \\\n",
       "E  0.000000  0.000000  0.600400    ...     0.000000  0.000000  0.000000   \n",
       "I  0.066711  0.066711  1.067378    ...     0.066711  0.066711  0.066711   \n",
       "\n",
       "    #FFCC4D   #FFE8B5   #FFEEEE   #FFF04D   #FFFCF7   #FFFEFF   #FFFFFF  \n",
       "E  0.133422  0.000000  0.000000  0.266845  0.000000  0.066711  2.401601  \n",
       "I  0.133422  0.066711  0.066711  0.533689  0.066711  0.000000  4.202802  \n",
       "\n",
       "[2 rows x 346 columns]"
      ]
     },
     "execution_count": 261,
     "metadata": {},
     "output_type": "execute_result"
    }
   ],
   "source": [
    "intro_extra"
   ]
  },
  {
   "cell_type": "code",
   "execution_count": 262,
   "metadata": {},
   "outputs": [
    {
     "data": {
      "text/plain": [
       "35.8905937291528"
      ]
     },
     "execution_count": 262,
     "metadata": {},
     "output_type": "execute_result"
    }
   ],
   "source": [
    "intro_extra.iloc[0,0:346].sum()"
   ]
  },
  {
   "cell_type": "code",
   "execution_count": null,
   "metadata": {
    "collapsed": true
   },
   "outputs": [],
   "source": []
  }
 ],
 "metadata": {
  "kernelspec": {
   "display_name": "Python 2",
   "language": "python",
   "name": "python2"
  },
  "language_info": {
   "codemirror_mode": {
    "name": "ipython",
    "version": 2
   },
   "file_extension": ".py",
   "mimetype": "text/x-python",
   "name": "python",
   "nbconvert_exporter": "python",
   "pygments_lexer": "ipython2",
   "version": "2.7.14"
  }
 },
 "nbformat": 4,
 "nbformat_minor": 2
}
